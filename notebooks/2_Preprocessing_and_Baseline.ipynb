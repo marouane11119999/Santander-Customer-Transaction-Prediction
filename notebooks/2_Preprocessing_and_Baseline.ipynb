{
 "cells": [
  {
   "cell_type": "markdown",
   "id": "0154afdb",
   "metadata": {},
   "source": [
    "# ⚙️ Preprocessing and Baseline Model\n",
    "\n",
    "### Tasks\n",
    "- 📂 **Split the dataset** into training and testing sets  \n",
    "- 🛠️ **Preprocess data** using **scikit-learn pipelines**  \n",
    "- 🤖 **Train the baseline model (Logistic regression)**  \n",
    "- 📊 **Evaluate model performance**  \n"
   ]
  },
  {
   "cell_type": "code",
   "execution_count": 40,
   "id": "94c2c5c4",
   "metadata": {},
   "outputs": [],
   "source": [
    "# imports \n",
    "import pandas as pd\n",
    "import os \n",
    "import sys\n",
    "import matplotlib.pyplot as plt\n",
    "sys.path.append(os.path.abspath(\"..\"))\n",
    "from src.data_loader import load_data, load_data_from_file\n",
    "import seaborn as sns\n",
    "import numpy as np\n",
    "from sklearn.model_selection import train_test_split\n",
    "from sklearn.pipeline import make_pipeline\n",
    "from sklearn.compose import make_column_transformer\n",
    "from sklearn.preprocessing import StandardScaler, MinMaxScaler\n",
    "from sklearn.linear_model import LogisticRegression\n",
    "from sklearn.model_selection import StratifiedKFold, cross_val_score, cross_val_predict\n",
    "from sklearn.model_selection import (\n",
    "    cross_validate,\n",
    "    cross_val_score,\n",
    "    KFold,\n",
    "    StratifiedKFold,\n",
    ")\n",
    "from sklearn.metrics import (\n",
    "    accuracy_score,\n",
    "    roc_curve,\n",
    "    roc_auc_score,\n",
    "    precision_recall_curve,\n",
    "    auc,\n",
    "    confusion_matrix,\n",
    "    classification_report,\n",
    "    RocCurveDisplay,\n",
    "    PrecisionRecallDisplay,\n",
    "    ConfusionMatrixDisplay\n",
    ")\n"
   ]
  },
  {
   "cell_type": "markdown",
   "id": "7efcecd2",
   "metadata": {},
   "source": [
    "### Data import "
   ]
  },
  {
   "cell_type": "code",
   "execution_count": 3,
   "id": "d9fac7ba",
   "metadata": {},
   "outputs": [
    {
     "name": "stdout",
     "output_type": "stream",
     "text": [
      "Loading dataset from file: ../data/raw/SantanderCustomerSatisfaction.csv...\n"
     ]
    }
   ],
   "source": [
    "location = '../data/raw/'\n",
    "df = load_data_from_file(file_path=os.path.join(location, 'SantanderCustomerSatisfaction.csv'))"
   ]
  },
  {
   "cell_type": "code",
   "execution_count": 4,
   "id": "8fe23a97",
   "metadata": {},
   "outputs": [],
   "source": [
    "def tweak_df(df):\n",
    "    df = df.copy()\n",
    "    df['target'] = df['target'].astype('category')\n",
    "    return df"
   ]
  },
  {
   "cell_type": "code",
   "execution_count": 5,
   "id": "72af5826",
   "metadata": {},
   "outputs": [],
   "source": [
    "df = tweak_df(df)"
   ]
  },
  {
   "cell_type": "markdown",
   "id": "8c75c182",
   "metadata": {},
   "source": [
    "### Train Test split"
   ]
  },
  {
   "cell_type": "code",
   "execution_count": 7,
   "id": "ddfb17e5",
   "metadata": {},
   "outputs": [],
   "source": [
    "(\n",
    "    df_train,\n",
    "    df_test,\n",
    "    y_train,\n",
    "    y_test,\n",
    ") = train_test_split(\n",
    "    df.drop(columns=['target']),\n",
    "    df['target'],\n",
    "    test_size=0.2,\n",
    "    random_state=42,\n",
    "    stratify=df['target'],\n",
    ")"
   ]
  },
  {
   "cell_type": "code",
   "execution_count": 14,
   "id": "e8cf3d55",
   "metadata": {},
   "outputs": [
    {
     "data": {
      "text/plain": [
       "Text(0.5, 1.0, 'Test distribution')"
      ]
     },
     "execution_count": 14,
     "metadata": {},
     "output_type": "execute_result"
    },
    {
     "data": {
      "image/png": "[encoded data removed]",
      "text/plain": [
       "<Figure size 1500x500 with 3 Axes>"
      ]
     },
     "metadata": {},
     "output_type": "display_data"
    }
   ],
   "source": [
    "fig , ax = plt.subplots(1,3, figsize=(15,5))\n",
    "sns.countplot(x=df['target'],stat='percent',ax=ax[0]).set_title('Overall distribution')\n",
    "sns.countplot(x=y_train,stat='percent',ax=ax[1]).set_title('Train distribution')\n",
    "sns.countplot(x=y_test,stat='percent',ax=ax[2]).set_title('Test distribution')"
   ]
  },
  {
   "cell_type": "markdown",
   "id": "57a461be",
   "metadata": {},
   "source": [
    "💡 **Note on Preprocessing**  \n",
    "\n",
    "Since the dataset contains **only numerical columns** with **no missing values**, the preprocessing step is fairly minimal.  \n",
    "The main consideration is selecting an appropriate **scaling strategy** for the machine learning model.  \n"
   ]
  },
  {
   "cell_type": "code",
   "execution_count": 26,
   "id": "67a612b8",
   "metadata": {},
   "outputs": [],
   "source": [
    "def get_preprocessor(scaler, df):\n",
    "    return make_column_transformer(\n",
    "        (scaler, df.columns),\n",
    "        verbose_feature_names_out=True,\n",
    "    ).set_output(transform=\"pandas\")\n",
    "\n",
    "lr_preprocessor_std = get_preprocessor(StandardScaler(), df_train)\n",
    "lr_preprocessor_minmax = get_preprocessor(MinMaxScaler(), df_train)"
   ]
  },
  {
   "cell_type": "markdown",
   "id": "6fa94730",
   "metadata": {},
   "source": [
    "### Logistic regression"
   ]
  },
  {
   "cell_type": "code",
   "execution_count": 27,
   "id": "95567fe6",
   "metadata": {},
   "outputs": [],
   "source": [
    "def get_lr_pipeline(preprocessor):\n",
    "    return make_pipeline(\n",
    "        preprocessor,\n",
    "        LogisticRegression(random_state=42, max_iter=1000)\n",
    "    )\n",
    "lr_pipeline_std = get_lr_pipeline(lr_preprocessor_std)\n",
    "lr_pipeline_minmax = get_lr_pipeline(lr_preprocessor_minmax)"
   ]
  },
  {
   "cell_type": "markdown",
   "id": "23753cd0",
   "metadata": {},
   "source": [
    "#### Defining cross validation setup"
   ]
  },
  {
   "cell_type": "code",
   "execution_count": 44,
   "id": "3b08d8a1",
   "metadata": {},
   "outputs": [],
   "source": [
    "def run_cv(estimator, X, y, cv, verbose=2):\n",
    "    return cross_validate(\n",
    "        estimator=estimator,\n",
    "        X=X,\n",
    "        y=y,\n",
    "        cv=cv,\n",
    "        scoring=(\"roc_auc\", \"average_precision\"),\n",
    "        return_estimator=True,\n",
    "        return_indices=True,\n",
    "        return_train_score=True,\n",
    "        verbose=verbose,\n",
    "    )\n",
    "    \n",
    "def print_test_scores(cv_results, scorings=(\"test_roc_auc\", \"test_average_precision\")):\n",
    "    for score in scorings:\n",
    "        print(\n",
    "            f\"mean {score:30s} score = {cv_results[score].mean():.5f} +/- {cv_results[score].std():.5f}\"\n",
    "        )\n",
    "    "
   ]
  },
  {
   "cell_type": "code",
   "execution_count": null,
   "id": "0bb3f5ba",
   "metadata": {},
   "outputs": [],
   "source": [
    "cv = StratifiedKFold(\n",
    "    n_splits=5, \n",
    "    shuffle=False, \n",
    ")\n",
    "cv_results_lr_std = run_cv(lr_pipeline_std, df_train, y_train, cv, verbose=0)\n",
    "cv_results_lr_minmax = run_cv(lr_pipeline_minmax, df_train, y_train, cv, verbose=0)\n"
   ]
  },
  {
   "cell_type": "code",
   "execution_count": 45,
   "id": "1ccad2fb",
   "metadata": {},
   "outputs": [
    {
     "name": "stdout",
     "output_type": "stream",
     "text": [
      "mean test_roc_auc                   score = 0.85909 +/- 0.00277\n",
      "mean test_average_precision         score = 0.50749 +/- 0.00670\n",
      "mean test_roc_auc                   score = 0.85850 +/- 0.00267\n",
      "mean test_average_precision         score = 0.50642 +/- 0.00722\n"
     ]
    }
   ],
   "source": [
    "print_test_scores(cv_results_lr_std)\n",
    "print_test_scores(cv_results_lr_minmax)"
   ]
  },
  {
   "cell_type": "markdown",
   "id": "46c3d0f1",
   "metadata": {},
   "source": [
    "# 📊 Model Evaluation Metrics\n",
    "\n",
    "In this project, we evaluated our models using **two key metrics**: **ROC-AUC** and **Average Precision (AP)**.  \n",
    "Both metrics are especially useful for imbalanced datasets, where accuracy alone can be misleading.\n",
    "\n",
    "---\n",
    "\n",
    "## 1️⃣ ROC-AUC (Receiver Operating Characteristic – Area Under the Curve)\n",
    "\n",
    "- **Definition:**  \n",
    "  Measures the model’s ability to **separate positive and negative classes** across different probability thresholds.  \n",
    "\n",
    "- **Components:**\n",
    "  - **True Positive Rate (TPR / Recall):**  \n",
    "    $$\n",
    "    \\text{TPR} = \\frac{TP}{TP + FN}\n",
    "    $$\n",
    "    → Out of all real positives, how many did the model correctly identify?  \n",
    "\n",
    "  - **False Positive Rate (FPR):**  \n",
    "    $$\n",
    "    \\text{FPR} = \\frac{FP}{FP + TN}\n",
    "    $$\n",
    "    → Out of all real negatives, how many did the model incorrectly label as positive?  \n",
    "\n",
    "- **ROC-AUC Score:**  \n",
    "  $$\n",
    "  \\text{ROC-AUC} = \\text{Area under the TPR vs FPR curve}\n",
    "  $$  \n",
    "\n",
    "- **Interpretation:**  \n",
    "  - 0.5 = random guessing  \n",
    "  - 1.0 = perfect separation  \n",
    "  - Our score (~0.86) shows the model **separates classes well**.\n",
    "\n",
    "---\n",
    "\n",
    "## 2️⃣ Average Precision (AP)\n",
    "\n",
    "- **Definition:**  \n",
    "  Summarizes the **Precision–Recall curve** into a single number, focusing on how well the model ranks positive samples above negatives.  \n",
    "\n",
    "- **Components:**\n",
    "  - **Precision:**  \n",
    "    $$\n",
    "    \\text{Precision} = \\frac{TP}{TP + FP}\n",
    "    $$\n",
    "    → Of the predicted positives, how many are actually positive?  \n",
    "\n",
    "  - **Recall (same as TPR):**  \n",
    "    $$\n",
    "    \\text{Recall} = \\frac{TP}{TP + FN}\n",
    "    $$\n",
    "    → Of the actual positives, how many did we correctly predict?  \n",
    "\n",
    "- **AP Formula:**  \n",
    "  $$\n",
    "  AP = \\sum_n (R_n - R_{n-1}) \\cdot P_n\n",
    "  $$\n",
    "  Where $P_n$ is the precision at step $n$, and $R_n$ is the recall at step $n$.  \n",
    "\n",
    "- **Interpretation:**  \n",
    "  - 0 = worst, 1 = perfect  \n",
    "  - Our score (~0.51) shows the model’s **ranking of positives is only slightly better than random**, which is expected with **class imbalance**.  \n",
    "\n",
    "---\n",
    "\n",
    "## 3️⃣ Summary of Results\n",
    "\n",
    "| Pipeline        | ROC-AUC | Average Precision |\n",
    "|-----------------|---------|-------------------|\n",
    "| StandardScaler  | 0.859   | 0.507 |\n",
    "| MinMaxScaler    | 0.859   | 0.506 |\n",
    "\n",
    "- **ROC-AUC (~0.86):** Model **distinguishes positives from negatives reliably**.  \n",
    "- **AP (~0.51):** Model struggles to keep **false positives low** when ranking positives.  \n",
    "- **Scaling effect:** No significant difference between StandardScaler and MinMaxScaler.  \n",
    "- **Stability:** Small standard deviations show **consistent performance across folds**.\n"
   ]
  }
 ],
 "metadata": {
  "kernelspec": {
   "display_name": "projekt",
   "language": "python",
   "name": "python3"
  },
  "language_info": {
   "codemirror_mode": {
    "name": "ipython",
    "version": 3
   },
   "file_extension": ".py",
   "mimetype": "text/x-python",
   "name": "python",
   "nbconvert_exporter": "python",
   "pygments_lexer": "ipython3",
   "version": "3.10.18"
  }
 },
 "nbformat": 4,
 "nbformat_minor": 5
}
