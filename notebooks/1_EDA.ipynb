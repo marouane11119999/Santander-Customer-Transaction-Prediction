{
 "cells": [
  {
   "cell_type": "code",
   "execution_count": 2,
   "id": "e60b7c5e",
   "metadata": {},
   "outputs": [],
   "source": [
    "# imports \n",
    "import pandas as pd\n",
    "import os \n",
    "import sys\n",
    "import matplotlib.pyplot as plt\n",
    "sys.path.append(os.path.abspath(\"..\"))\n",
    "from src.data_loader import load_data, load_data_from_file\n",
    "import seaborn as sns\n",
    "import numpy as np\n"
   ]
  },
  {
   "cell_type": "markdown",
   "id": "d2106f11",
   "metadata": {},
   "source": [
    "### Task\n",
    "\n",
    "- Performing an exploratory data analysis over the santander dataset "
   ]
  },
  {
   "cell_type": "markdown",
   "id": "1b43ad3a",
   "metadata": {},
   "source": [
    "## Loading Dataset"
   ]
  },
  {
   "cell_type": "code",
   "execution_count": 3,
   "id": "76035111",
   "metadata": {},
   "outputs": [
    {
     "name": "stdout",
     "output_type": "stream",
     "text": [
      "Loading dataset from file: ../data/raw/SantanderCustomerSatisfaction.csv...\n"
     ]
    }
   ],
   "source": [
    "location = '../data/raw/'\n",
    "id = 45566\n",
    "#raw_df = load_data(id=id,location=location)\n",
    "raw_df = load_data_from_file(file_path=os.path.join(location, 'SantanderCustomerSatisfaction.csv'))"
   ]
  },
  {
   "cell_type": "markdown",
   "id": "db1adb39",
   "metadata": {},
   "source": [
    "# EDA"
   ]
  },
  {
   "cell_type": "code",
   "execution_count": 4,
   "id": "54121c62",
   "metadata": {},
   "outputs": [
    {
     "data": {
      "application/vnd.microsoft.datawrangler.viewer.v0+json": {
       "columns": [
        {
         "name": "index",
         "rawType": "int64",
         "type": "integer"
        },
        {
         "name": "var_0",
         "rawType": "float64",
         "type": "float"
        },
        {
         "name": "var_1",
         "rawType": "float64",
         "type": "float"
        },
        {
         "name": "var_2",
         "rawType": "float64",
         "type": "float"
        },
        {
         "name": "var_3",
         "rawType": "float64",
         "type": "float"
        },
        {
         "name": "var_4",
         "rawType": "float64",
         "type": "float"
        },
        {
         "name": "var_5",
         "rawType": "float64",
         "type": "float"
        },
        {
         "name": "var_6",
         "rawType": "float64",
         "type": "float"
        },
        {
         "name": "var_7",
         "rawType": "float64",
         "type": "float"
        },
        {
         "name": "var_8",
         "rawType": "float64",
         "type": "float"
        },
        {
         "name": "var_9",
         "rawType": "float64",
         "type": "float"
        },
        {
         "name": "var_10",
         "rawType": "float64",
         "type": "float"
        },
        {
         "name": "var_11",
         "rawType": "float64",
         "type": "float"
        },
        {
         "name": "var_12",
         "rawType": "float64",
         "type": "float"
        },
        {
         "name": "var_13",
         "rawType": "float64",
         "type": "float"
        },
        {
         "name": "var_14",
         "rawType": "float64",
         "type": "float"
        },
        {
         "name": "var_15",
         "rawType": "float64",
         "type": "float"
        },
        {
         "name": "var_16",
         "rawType": "float64",
         "type": "float"
        },
        {
         "name": "var_17",
         "rawType": "float64",
         "type": "float"
        },
        {
         "name": "var_18",
         "rawType": "float64",
         "type": "float"
        },
        {
         "name": "var_19",
         "rawType": "float64",
         "type": "float"
        },
        {
         "name": "var_20",
         "rawType": "float64",
         "type": "float"
        },
        {
         "name": "var_21",
         "rawType": "float64",
         "type": "float"
        },
        {
         "name": "var_22",
         "rawType": "float64",
         "type": "float"
        },
        {
         "name": "var_23",
         "rawType": "float64",
         "type": "float"
        },
        {
         "name": "var_24",
         "rawType": "float64",
         "type": "float"
        },
        {
         "name": "var_25",
         "rawType": "float64",
         "type": "float"
        },
        {
         "name": "var_26",
         "rawType": "float64",
         "type": "float"
        },
        {
         "name": "var_27",
         "rawType": "float64",
         "type": "float"
        },
        {
         "name": "var_28",
         "rawType": "float64",
         "type": "float"
        },
        {
         "name": "var_29",
         "rawType": "float64",
         "type": "float"
        },
        {
         "name": "var_30",
         "rawType": "float64",
         "type": "float"
        },
        {
         "name": "var_31",
         "rawType": "float64",
         "type": "float"
        },
        {
         "name": "var_32",
         "rawType": "float64",
         "type": "float"
        },
        {
         "name": "var_33",
         "rawType": "float64",
         "type": "float"
        },
        {
         "name": "var_34",
         "rawType": "float64",
         "type": "float"
        },
        {
         "name": "var_35",
         "rawType": "float64",
         "type": "float"
        },
        {
         "name": "var_36",
         "rawType": "float64",
         "type": "float"
        },
        {
         "name": "var_37",
         "rawType": "float64",
         "type": "float"
        },
        {
         "name": "var_38",
         "rawType": "float64",
         "type": "float"
        },
        {
         "name": "var_39",
         "rawType": "float64",
         "type": "float"
        },
        {
         "name": "var_40",
         "rawType": "float64",
         "type": "float"
        },
        {
         "name": "var_41",
         "rawType": "float64",
         "type": "float"
        },
        {
         "name": "var_42",
         "rawType": "float64",
         "type": "float"
        },
        {
         "name": "var_43",
         "rawType": "float64",
         "type": "float"
        },
        {
         "name": "var_44",
         "rawType": "float64",
         "type": "float"
        },
        {
         "name": "var_45",
         "rawType": "float64",
         "type": "float"
        },
        {
         "name": "var_46",
         "rawType": "float64",
         "type": "float"
        },
        {
         "name": "var_47",
         "rawType": "float64",
         "type": "float"
        },
        {
         "name": "var_48",
         "rawType": "float64",
         "type": "float"
        },
        {
         "name": "var_49",
         "rawType": "float64",
         "type": "float"
        },
        {
         "name": "var_50",
         "rawType": "float64",
         "type": "float"
        },
        {
         "name": "var_51",
         "rawType": "float64",
         "type": "float"
        },
        {
         "name": "var_52",
         "rawType": "float64",
         "type": "float"
        },
        {
         "name": "var_53",
         "rawType": "float64",
         "type": "float"
        },
        {
         "name": "var_54",
         "rawType": "float64",
         "type": "float"
        },
        {
         "name": "var_55",
         "rawType": "float64",
         "type": "float"
        },
        {
         "name": "var_56",
         "rawType": "float64",
         "type": "float"
        },
        {
         "name": "var_57",
         "rawType": "float64",
         "type": "float"
        },
        {
         "name": "var_58",
         "rawType": "float64",
         "type": "float"
        },
        {
         "name": "var_59",
         "rawType": "float64",
         "type": "float"
        },
        {
         "name": "var_60",
         "rawType": "float64",
         "type": "float"
        },
        {
         "name": "var_61",
         "rawType": "float64",
         "type": "float"
        },
        {
         "name": "var_62",
         "rawType": "float64",
         "type": "float"
        },
        {
         "name": "var_63",
         "rawType": "float64",
         "type": "float"
        },
        {
         "name": "var_64",
         "rawType": "float64",
         "type": "float"
        },
        {
         "name": "var_65",
         "rawType": "float64",
         "type": "float"
        },
        {
         "name": "var_66",
         "rawType": "float64",
         "type": "float"
        },
        {
         "name": "var_67",
         "rawType": "float64",
         "type": "float"
        },
        {
         "name": "var_68",
         "rawType": "float64",
         "type": "float"
        },
        {
         "name": "var_69",
         "rawType": "float64",
         "type": "float"
        },
        {
         "name": "var_70",
         "rawType": "float64",
         "type": "float"
        },
        {
         "name": "var_71",
         "rawType": "float64",
         "type": "float"
        },
        {
         "name": "var_72",
         "rawType": "float64",
         "type": "float"
        },
        {
         "name": "var_73",
         "rawType": "float64",
         "type": "float"
        },
        {
         "name": "var_74",
         "rawType": "float64",
         "type": "float"
        },
        {
         "name": "var_75",
         "rawType": "float64",
         "type": "float"
        },
        {
         "name": "var_76",
         "rawType": "float64",
         "type": "float"
        },
        {
         "name": "var_77",
         "rawType": "float64",
         "type": "float"
        },
        {
         "name": "var_78",
         "rawType": "float64",
         "type": "float"
        },
        {
         "name": "var_79",
         "rawType": "float64",
         "type": "float"
        },
        {
         "name": "var_80",
         "rawType": "float64",
         "type": "float"
        },
        {
         "name": "var_81",
         "rawType": "float64",
         "type": "float"
        },
        {
         "name": "var_82",
         "rawType": "float64",
         "type": "float"
        },
        {
         "name": "var_83",
         "rawType": "float64",
         "type": "float"
        },
        {
         "name": "var_84",
         "rawType": "float64",
         "type": "float"
        },
        {
         "name": "var_85",
         "rawType": "float64",
         "type": "float"
        },
        {
         "name": "var_86",
         "rawType": "float64",
         "type": "float"
        },
        {
         "name": "var_87",
         "rawType": "float64",
         "type": "float"
        },
        {
         "name": "var_88",
         "rawType": "float64",
         "type": "float"
        },
        {
         "name": "var_89",
         "rawType": "float64",
         "type": "float"
        },
        {
         "name": "var_90",
         "rawType": "float64",
         "type": "float"
        },
        {
         "name": "var_91",
         "rawType": "float64",
         "type": "float"
        },
        {
         "name": "var_92",
         "rawType": "float64",
         "type": "float"
        },
        {
         "name": "var_93",
         "rawType": "float64",
         "type": "float"
        },
        {
         "name": "var_94",
         "rawType": "float64",
         "type": "float"
        },
        {
         "name": "var_95",
         "rawType": "float64",
         "type": "float"
        },
        {
         "name": "var_96",
         "rawType": "float64",
         "type": "float"
        },
        {
         "name": "var_97",
         "rawType": "float64",
         "type": "float"
        },
        {
         "name": "var_98",
         "rawType": "float64",
         "type": "float"
        },
        {
         "name": "var_99",
         "rawType": "float64",
         "type": "float"
        },
        {
         "name": "var_100",
         "rawType": "float64",
         "type": "float"
        },
        {
         "name": "var_101",
         "rawType": "float64",
         "type": "float"
        },
        {
         "name": "var_102",
         "rawType": "float64",
         "type": "float"
        },
        {
         "name": "var_103",
         "rawType": "float64",
         "type": "float"
        },
        {
         "name": "var_104",
         "rawType": "float64",
         "type": "float"
        },
        {
         "name": "var_105",
         "rawType": "float64",
         "type": "float"
        },
        {
         "name": "var_106",
         "rawType": "float64",
         "type": "float"
        },
        {
         "name": "var_107",
         "rawType": "float64",
         "type": "float"
        },
        {
         "name": "var_108",
         "rawType": "float64",
         "type": "float"
        },
        {
         "name": "var_109",
         "rawType": "float64",
         "type": "float"
        },
        {
         "name": "var_110",
         "rawType": "float64",
         "type": "float"
        },
        {
         "name": "var_111",
         "rawType": "float64",
         "type": "float"
        },
        {
         "name": "var_112",
         "rawType": "float64",
         "type": "float"
        },
        {
         "name": "var_113",
         "rawType": "float64",
         "type": "float"
        },
        {
         "name": "var_114",
         "rawType": "float64",
         "type": "float"
        },
        {
         "name": "var_115",
         "rawType": "float64",
         "type": "float"
        },
        {
         "name": "var_116",
         "rawType": "float64",
         "type": "float"
        },
        {
         "name": "var_117",
         "rawType": "float64",
         "type": "float"
        },
        {
         "name": "var_118",
         "rawType": "float64",
         "type": "float"
        },
        {
         "name": "var_119",
         "rawType": "float64",
         "type": "float"
        },
        {
         "name": "var_120",
         "rawType": "float64",
         "type": "float"
        },
        {
         "name": "var_121",
         "rawType": "float64",
         "type": "float"
        },
        {
         "name": "var_122",
         "rawType": "float64",
         "type": "float"
        },
        {
         "name": "var_123",
         "rawType": "float64",
         "type": "float"
        },
        {
         "name": "var_124",
         "rawType": "float64",
         "type": "float"
        },
        {
         "name": "var_125",
         "rawType": "float64",
         "type": "float"
        },
        {
         "name": "var_126",
         "rawType": "float64",
         "type": "float"
        },
        {
         "name": "var_127",
         "rawType": "float64",
         "type": "float"
        },
        {
         "name": "var_128",
         "rawType": "float64",
         "type": "float"
        },
        {
         "name": "var_129",
         "rawType": "float64",
         "type": "float"
        },
        {
         "name": "var_130",
         "rawType": "float64",
         "type": "float"
        },
        {
         "name": "var_131",
         "rawType": "float64",
         "type": "float"
        },
        {
         "name": "var_132",
         "rawType": "float64",
         "type": "float"
        },
        {
         "name": "var_133",
         "rawType": "float64",
         "type": "float"
        },
        {
         "name": "var_134",
         "rawType": "float64",
         "type": "float"
        },
        {
         "name": "var_135",
         "rawType": "float64",
         "type": "float"
        },
        {
         "name": "var_136",
         "rawType": "float64",
         "type": "float"
        },
        {
         "name": "var_137",
         "rawType": "float64",
         "type": "float"
        },
        {
         "name": "var_138",
         "rawType": "float64",
         "type": "float"
        },
        {
         "name": "var_139",
         "rawType": "float64",
         "type": "float"
        },
        {
         "name": "var_140",
         "rawType": "float64",
         "type": "float"
        },
        {
         "name": "var_141",
         "rawType": "float64",
         "type": "float"
        },
        {
         "name": "var_142",
         "rawType": "float64",
         "type": "float"
        },
        {
         "name": "var_143",
         "rawType": "float64",
         "type": "float"
        },
        {
         "name": "var_144",
         "rawType": "float64",
         "type": "float"
        },
        {
         "name": "var_145",
         "rawType": "float64",
         "type": "float"
        },
        {
         "name": "var_146",
         "rawType": "float64",
         "type": "float"
        },
        {
         "name": "var_147",
         "rawType": "float64",
         "type": "float"
        },
        {
         "name": "var_148",
         "rawType": "float64",
         "type": "float"
        },
        {
         "name": "var_149",
         "rawType": "float64",
         "type": "float"
        },
        {
         "name": "var_150",
         "rawType": "float64",
         "type": "float"
        },
        {
         "name": "var_151",
         "rawType": "float64",
         "type": "float"
        },
        {
         "name": "var_152",
         "rawType": "float64",
         "type": "float"
        },
        {
         "name": "var_153",
         "rawType": "float64",
         "type": "float"
        },
        {
         "name": "var_154",
         "rawType": "float64",
         "type": "float"
        },
        {
         "name": "var_155",
         "rawType": "float64",
         "type": "float"
        },
        {
         "name": "var_156",
         "rawType": "float64",
         "type": "float"
        },
        {
         "name": "var_157",
         "rawType": "float64",
         "type": "float"
        },
        {
         "name": "var_158",
         "rawType": "float64",
         "type": "float"
        },
        {
         "name": "var_159",
         "rawType": "float64",
         "type": "float"
        },
        {
         "name": "var_160",
         "rawType": "float64",
         "type": "float"
        },
        {
         "name": "var_161",
         "rawType": "float64",
         "type": "float"
        },
        {
         "name": "var_162",
         "rawType": "float64",
         "type": "float"
        },
        {
         "name": "var_163",
         "rawType": "float64",
         "type": "float"
        },
        {
         "name": "var_164",
         "rawType": "float64",
         "type": "float"
        },
        {
         "name": "var_165",
         "rawType": "float64",
         "type": "float"
        },
        {
         "name": "var_166",
         "rawType": "float64",
         "type": "float"
        },
        {
         "name": "var_167",
         "rawType": "float64",
         "type": "float"
        },
        {
         "name": "var_168",
         "rawType": "float64",
         "type": "float"
        },
        {
         "name": "var_169",
         "rawType": "float64",
         "type": "float"
        },
        {
         "name": "var_170",
         "rawType": "float64",
         "type": "float"
        },
        {
         "name": "var_171",
         "rawType": "float64",
         "type": "float"
        },
        {
         "name": "var_172",
         "rawType": "float64",
         "type": "float"
        },
        {
         "name": "var_173",
         "rawType": "float64",
         "type": "float"
        },
        {
         "name": "var_174",
         "rawType": "float64",
         "type": "float"
        },
        {
         "name": "var_175",
         "rawType": "float64",
         "type": "float"
        },
        {
         "name": "var_176",
         "rawType": "float64",
         "type": "float"
        },
        {
         "name": "var_177",
         "rawType": "float64",
         "type": "float"
        },
        {
         "name": "var_178",
         "rawType": "float64",
         "type": "float"
        },
        {
         "name": "var_179",
         "rawType": "float64",
         "type": "float"
        },
        {
         "name": "var_180",
         "rawType": "float64",
         "type": "float"
        },
        {
         "name": "var_181",
         "rawType": "float64",
         "type": "float"
        },
        {
         "name": "var_182",
         "rawType": "float64",
         "type": "float"
        },
        {
         "name": "var_183",
         "rawType": "float64",
         "type": "float"
        },
        {
         "name": "var_184",
         "rawType": "float64",
         "type": "float"
        },
        {
         "name": "var_185",
         "rawType": "float64",
         "type": "float"
        },
        {
         "name": "var_186",
         "rawType": "float64",
         "type": "float"
        },
        {
         "name": "var_187",
         "rawType": "float64",
         "type": "float"
        },
        {
         "name": "var_188",
         "rawType": "float64",
         "type": "float"
        },
        {
         "name": "var_189",
         "rawType": "float64",
         "type": "float"
        },
        {
         "name": "var_190",
         "rawType": "float64",
         "type": "float"
        },
        {
         "name": "var_191",
         "rawType": "float64",
         "type": "float"
        },
        {
         "name": "var_192",
         "rawType": "float64",
         "type": "float"
        },
        {
         "name": "var_193",
         "rawType": "float64",
         "type": "float"
        },
        {
         "name": "var_194",
         "rawType": "float64",
         "type": "float"
        },
        {
         "name": "var_195",
         "rawType": "float64",
         "type": "float"
        },
        {
         "name": "var_196",
         "rawType": "float64",
         "type": "float"
        },
        {
         "name": "var_197",
         "rawType": "float64",
         "type": "float"
        },
        {
         "name": "var_198",
         "rawType": "float64",
         "type": "float"
        },
        {
         "name": "var_199",
         "rawType": "float64",
         "type": "float"
        },
        {
         "name": "target",
         "rawType": "bool",
         "type": "boolean"
        }
       ],
       "ref": "f3c9ec4d-f2c4-48b0-a350-6809094aa3c7",
       "rows": [
        [
         "0",
         "8.9255",
         "-6.7863",
         "11.9081",
         "5.093",
         "11.4607",
         "-9.2834",
         "5.1187",
         "18.6266",
         "-4.92",
         "5.747000000000001",
         "2.9252",
         "3.1821",
         "14.0137",
         "0.5745",
         "8.7989",
         "14.5691",
         "5.7487",
         "-7.2393",
         "4.284",
         "30.7133",
         "10.535",
         "16.2191",
         "2.5791",
         "2.4716",
         "14.3831",
         "13.4325",
         "-5.1488",
         "-0.4073",
         "4.9306",
         "5.9965",
         "-0.3085",
         "12.9041",
         "-3.8766",
         "16.8911",
         "11.192",
         "10.5785",
         "0.6764",
         "7.8871",
         "4.6667",
         "3.8743",
         "-5.2387",
         "7.3746",
         "11.5767",
         "12.0446",
         "11.6418",
         "-7.017",
         "5.9226",
         "-14.2136",
         "16.0283",
         "5.3253",
         "12.9194",
         "29.046",
         "-0.6940000000000001",
         "5.1736",
         "-0.7474",
         "14.8322",
         "11.2668",
         "5.3822",
         "2.0183",
         "10.1166",
         "16.1828",
         "4.959",
         "2.0771",
         "-0.2154",
         "8.6748",
         "9.5319",
         "5.8056",
         "22.4321",
         "5.0109",
         "-4.7010000000000005",
         "21.6374",
         "0.5663",
         "5.1999",
         "8.86",
         "43.1127",
         "18.3816",
         "-2.344",
         "23.4104",
         "6.5199",
         "12.1983",
         "13.6468",
         "13.8372",
         "1.3675",
         "2.9423",
         "-4.5213",
         "21.4669",
         "9.3225",
         "16.4597",
         "7.9984",
         "-1.7069",
         "-21.4494",
         "6.7806",
         "11.0924",
         "9.9913",
         "14.8421",
         "0.1812",
         "8.9642",
         "16.2572",
         "2.1743",
         "-3.4132",
         "9.4763",
         "13.3102",
         "26.5376",
         "1.4403",
         "14.71",
         "6.0454",
         "9.5426",
         "17.1554",
         "14.1104",
         "24.3627",
         "2.0323",
         "6.7602",
         "3.9141",
         "-0.4851",
         "2.524",
         "1.5093",
         "2.5516",
         "15.5752",
         "-13.4221",
         "7.2739",
         "16.0094",
         "9.7268",
         "0.8897",
         "0.7754",
         "4.2218",
         "12.0039",
         "13.8571",
         "-0.7338",
         "-1.9245",
         "15.4462",
         "12.8287",
         "0.3587",
         "9.6508",
         "6.5674",
         "5.1726",
         "3.1345",
         "29.4547",
         "31.4045",
         "2.8279",
         "15.6599",
         "8.3307",
         "-5.6011",
         "19.0614",
         "11.2663",
         "8.6989",
         "8.3694",
         "11.5659",
         "-16.4727",
         "4.0288",
         "17.9244",
         "18.5177",
         "10.78",
         "9.0056",
         "16.6964",
         "10.4838",
         "1.6573",
         "12.1749",
         "-13.1324",
         "17.6054",
         "11.5423",
         "15.4576",
         "5.3133",
         "3.6159",
         "5.0384",
         "6.676",
         "12.6644",
         "2.7004",
         "-0.6975",
         "9.5981",
         "5.4879",
         "-4.7645",
         "-8.4254",
         "20.8773",
         "3.1531",
         "18.5618",
         "7.7423",
         "-10.1245",
         "13.7241",
         "-3.5189",
         "1.7202",
         "-8.4051",
         "9.0164",
         "3.0657",
         "14.3691",
         "25.8398",
         "5.8764",
         "11.8411",
         "-19.7159",
         "17.5743",
         "0.5857",
         "4.4354",
         "3.9642",
         "3.1364",
         "1.6909999999999998",
         "18.5227",
         "-2.3978",
         "7.8784",
         "8.5635",
         "12.7803",
         "-1.0914",
         "False"
        ],
        [
         "1",
         "11.5006",
         "-4.1473",
         "13.8588",
         "5.388999999999999",
         "12.3622",
         "7.0433",
         "5.6208",
         "16.5338",
         "3.1468",
         "8.0851",
         "-0.4032",
         "8.0585",
         "14.0239",
         "8.4135",
         "5.4345",
         "13.7003",
         "13.8275",
         "-15.5849",
         "7.8",
         "28.5708",
         "3.4287",
         "2.7407",
         "8.5524",
         "3.3716",
         "6.9779",
         "13.890999999999998",
         "-11.7684",
         "-2.5586",
         "5.0464",
         "0.5481",
         "-9.2987",
         "7.8755",
         "1.2859",
         "19.371",
         "11.3702",
         "0.7399",
         "2.7995",
         "5.8434",
         "10.816",
         "3.6783",
         "-11.1147",
         "1.873",
         "9.8775",
         "11.7842",
         "1.2444",
         "-47.3797",
         "7.3718",
         "0.1948",
         "34.4014",
         "25.7037",
         "11.8343",
         "13.2256",
         "-4.1083",
         "6.6885",
         "-8.0946",
         "18.5995",
         "19.3219",
         "7.0118",
         "1.921",
         "8.8682",
         "8.0109",
         "-7.2417",
         "1.7944",
         "-1.3147",
         "8.1042",
         "1.5365",
         "5.4007",
         "7.9344",
         "5.022",
         "2.2302",
         "40.5632",
         "0.5134",
         "3.1701",
         "20.1068",
         "7.7841",
         "7.0529",
         "3.2709",
         "23.4822",
         "5.5075",
         "13.7814",
         "2.5462",
         "18.1782",
         "0.3683",
         "-4.821000000000001",
         "-5.485",
         "13.7867",
         "-13.5901",
         "11.0993",
         "7.9022",
         "12.2301",
         "0.4768",
         "6.8852",
         "8.0905",
         "10.9631",
         "11.7569",
         "-1.2722",
         "24.7876",
         "26.6881",
         "1.8944",
         "0.6939",
         "-13.695",
         "8.4068",
         "35.4734",
         "1.7093",
         "15.1866",
         "2.6227",
         "7.3412",
         "32.0888",
         "13.955",
         "13.0858",
         "6.6203",
         "7.1051",
         "5.3523",
         "8.5426",
         "3.6159",
         "4.1569",
         "3.0454",
         "7.8522",
         "-11.51",
         "7.5109",
         "31.5899",
         "9.5018",
         "8.2736",
         "10.1633",
         "0.1225",
         "12.5942",
         "14.5697",
         "2.4354",
         "0.8194",
         "16.5346",
         "12.4205",
         "-0.178",
         "5.7582",
         "7.0513",
         "1.9568",
         "-8.9921",
         "9.7797",
         "18.1577",
         "-1.9721",
         "16.1622",
         "3.6937",
         "6.6803",
         "-0.3243",
         "12.2806",
         "8.6086",
         "11.0738",
         "8.9231",
         "11.77",
         "4.2578",
         "-4.4223",
         "20.6294",
         "14.8743",
         "9.4317",
         "16.7242",
         "-0.5687",
         "0.1898",
         "12.2419",
         "-9.6953",
         "22.3949",
         "10.6261",
         "29.4846",
         "5.8683",
         "3.8208",
         "15.8348",
         "-5.0121",
         "15.1345",
         "3.2003",
         "9.3192",
         "3.8821",
         "5.7999",
         "5.5378",
         "5.0988",
         "22.033",
         "5.5134",
         "30.2645",
         "10.4968",
         "-7.2352",
         "16.5721",
         "-7.3477",
         "11.0752",
         "-5.5937",
         "9.4878",
         "-14.91",
         "9.4245",
         "22.5441",
         "-4.8622",
         "7.6543",
         "-15.9319",
         "13.3175",
         "-0.3566",
         "7.6421",
         "7.7214",
         "2.5837",
         "10.9516",
         "15.4305",
         "2.0339",
         "8.1267",
         "8.7889",
         "18.356",
         "1.9518",
         "False"
        ],
        [
         "2",
         "8.6093",
         "-2.7457",
         "12.0805",
         "7.8928",
         "10.5825",
         "-9.0837",
         "6.9427",
         "14.6155",
         "-4.9193",
         "5.9525",
         "-0.3249",
         "-11.2648",
         "14.1929",
         "7.3124",
         "7.5244",
         "14.6472",
         "7.6782",
         "-1.7395",
         "4.7011",
         "20.4775",
         "17.7559",
         "18.1377",
         "1.2145",
         "3.5137",
         "5.6777",
         "13.2177",
         "-7.994",
         "-2.9029",
         "5.8463",
         "6.1439",
         "-11.1025",
         "12.4858",
         "-2.2871",
         "19.0422",
         "11.0449",
         "4.1087",
         "4.6974",
         "6.9346",
         "10.8917",
         "0.9003",
         "-13.5174",
         "2.2439",
         "11.5283",
         "12.0406",
         "4.1006",
         "-7.9078",
         "11.1405",
         "-5.7864",
         "20.7477",
         "6.8874",
         "12.9143",
         "19.5856",
         "0.7268",
         "6.4059",
         "9.3124",
         "6.2846",
         "15.6372",
         "5.82",
         "1.1",
         "9.1854",
         "12.5963",
         "-10.3734",
         "0.8748",
         "5.8042",
         "3.7163",
         "-1.1016",
         "7.3667",
         "9.8565",
         "5.0228",
         "-5.7828",
         "2.3612",
         "0.852",
         "6.3577",
         "12.1719",
         "19.7312",
         "19.4465",
         "4.5048",
         "23.2378",
         "6.3191",
         "12.8046",
         "7.4729",
         "15.7811",
         "13.3529",
         "10.1852",
         "5.4604",
         "19.0773",
         "-4.4577",
         "9.5413",
         "11.9052",
         "2.1447",
         "-22.4038",
         "7.0883",
         "14.1613",
         "10.508",
         "14.2621",
         "0.2647",
         "20.4031",
         "17.035999999999998",
         "1.6981",
         "-0.0269",
         "-0.3939",
         "12.6317",
         "14.8863",
         "1.3854",
         "15.0284",
         "3.9995",
         "5.3683",
         "8.6273",
         "14.1963",
         "20.3882",
         "3.2304",
         "5.7033",
         "4.5255",
         "2.1929",
         "3.129",
         "2.9044",
         "1.1696",
         "28.7632",
         "-17.2738",
         "2.1056",
         "21.1613",
         "8.9573",
         "2.7768",
         "-2.1746",
         "3.6932",
         "12.4653",
         "14.1978",
         "-2.5511",
         "-0.9479",
         "17.1092",
         "11.5419",
         "0.0975",
         "8.8186",
         "6.6231",
         "3.9358",
         "-11.7218",
         "24.5437",
         "15.5827",
         "3.8212",
         "8.6674",
         "7.3834",
         "-2.4438",
         "10.2158",
         "7.4844",
         "9.1104",
         "4.3649",
         "11.4934",
         "1.7624",
         "4.0714",
         "-1.2681",
         "14.333",
         "8.0088",
         "4.4015",
         "14.1479",
         "-5.1747",
         "0.5778",
         "14.5362",
         "-1.7624",
         "33.882",
         "11.6041",
         "13.207",
         "5.8442",
         "4.7086",
         "5.7141",
         "-1.041",
         "20.5092",
         "3.279",
         "-5.5952",
         "7.3176",
         "5.769",
         "-7.0927",
         "-3.9116",
         "7.2569",
         "-5.8234",
         "25.682",
         "10.9202",
         "-0.3104",
         "8.8438",
         "-9.7009",
         "2.4013",
         "-4.2935",
         "9.3908",
         "-13.2648",
         "3.1545",
         "23.0866",
         "-5.3",
         "5.3745",
         "-6.266",
         "10.1934",
         "-0.8417",
         "2.9057",
         "9.7905",
         "1.6704",
         "1.6858",
         "21.6042",
         "3.1417",
         "-6.5213",
         "8.2675",
         "14.7222",
         "0.3965",
         "False"
        ],
        [
         "3",
         "11.0604",
         "-2.1518",
         "8.9522",
         "7.1957",
         "12.5846",
         "-1.8361",
         "5.8428",
         "14.925",
         "-5.8609",
         "8.245",
         "2.3061",
         "2.8102",
         "13.8463",
         "11.9704",
         "6.4569",
         "14.8372",
         "10.743",
         "-0.4299",
         "15.9426",
         "13.7257",
         "20.301",
         "12.5579",
         "6.8202",
         "2.7229",
         "12.1354",
         "13.7367",
         "0.8135",
         "-0.9059",
         "5.907",
         "2.8407",
         "-15.2398",
         "10.4407",
         "-2.5731",
         "6.1796",
         "10.6093",
         "-5.9158",
         "8.1723",
         "2.8521",
         "9.1738",
         "0.6665",
         "-3.8294",
         "-1.037",
         "11.777",
         "11.2834",
         "8.0485",
         "-24.684",
         "12.7404",
         "-35.1659",
         "0.7613",
         "8.3838",
         "12.6832",
         "9.5503",
         "1.7895",
         "5.2091",
         "8.0913",
         "12.3972",
         "14.4698",
         "6.585",
         "3.3164",
         "9.4638",
         "15.782",
         "-25.0222",
         "3.4418",
         "-4.3923",
         "8.6464",
         "6.3072",
         "5.6221",
         "23.6143",
         "5.022",
         "-3.9989",
         "4.0462",
         "0.25",
         "1.2516",
         "24.4187",
         "4.529",
         "15.4235",
         "11.6875",
         "23.6273",
         "4.0806",
         "15.2733",
         "0.7839",
         "10.5404",
         "1.6212",
         "-5.2896",
         "1.6027",
         "17.9762",
         "-2.3174",
         "15.6298",
         "4.5474",
         "7.5509",
         "-7.5866",
         "7.0364",
         "14.4027",
         "10.7795",
         "7.2887",
         "-1.093",
         "11.3596",
         "18.1486",
         "2.8344",
         "1.948",
         "-19.8592",
         "22.5316",
         "18.6129",
         "1.3512",
         "9.3291",
         "4.2835",
         "10.3907",
         "7.0874",
         "14.3256",
         "14.4135",
         "4.2827",
         "6.975",
         "1.648",
         "11.6896",
         "2.5762",
         "-2.5459",
         "5.3446",
         "38.1015",
         "3.5732",
         "5.0988",
         "30.5644",
         "11.3025",
         "3.9618",
         "-8.2464",
         "2.7038",
         "12.3441",
         "12.5431",
         "-1.3683",
         "3.5974",
         "13.9761",
         "14.3003",
         "1.0486",
         "8.95",
         "7.1954",
         "-1.1984",
         "1.9586",
         "27.5609",
         "24.6065",
         "-2.8233",
         "8.9821",
         "3.8873",
         "15.9638",
         "10.0142",
         "7.8388",
         "9.9718",
         "2.9253",
         "10.4994",
         "4.1622",
         "3.7613",
         "2.3701",
         "18.0984",
         "17.1765",
         "7.6508",
         "18.2452",
         "17.0336",
         "-10.937",
         "12.05",
         "-1.2155",
         "19.975",
         "12.3892",
         "31.8833",
         "5.9684",
         "7.2084",
         "3.8899",
         "-11.0882",
         "17.2502",
         "2.5881",
         "-2.7018",
         "0.5641",
         "5.343",
         "-7.1541",
         "-6.192",
         "18.2366",
         "11.7134",
         "14.7483",
         "8.1013",
         "11.8771",
         "13.9552",
         "-10.4701",
         "5.6961",
         "-3.7546",
         "8.4117",
         "1.8986",
         "7.2601",
         "-0.4639",
         "-0.0498",
         "7.9336",
         "-12.8279",
         "12.4124",
         "1.8489",
         "4.4666",
         "4.7433",
         "0.7178",
         "1.4214",
         "23.0347",
         "-1.2706",
         "-2.9275",
         "10.2922",
         "17.9697",
         "-8.9996",
         "False"
        ],
        [
         "4",
         "9.8369",
         "-1.4834",
         "12.8746",
         "6.6375",
         "12.2772",
         "2.4486",
         "5.9405",
         "19.2514",
         "6.2654",
         "7.6784",
         "-9.4458",
         "-12.1419",
         "13.8481",
         "7.8895",
         "7.7894",
         "15.0553",
         "8.4871",
         "-3.068",
         "6.5263",
         "11.3152",
         "21.4246",
         "18.9608",
         "10.1102",
         "2.7142",
         "14.208",
         "13.5433",
         "3.1736",
         "-3.3423",
         "5.9015",
         "7.9352",
         "-3.1582",
         "9.4668",
         "-0.0083",
         "19.3239",
         "12.4057",
         "0.6329",
         "2.7922",
         "5.8184",
         "19.3038",
         "1.445",
         "-5.5963",
         "14.0685",
         "11.9171",
         "11.5111",
         "6.9087",
         "-65.4863",
         "13.8657",
         "0.0444",
         "-0.1346",
         "14.4268",
         "13.3273",
         "10.4857",
         "-1.4367",
         "5.7555",
         "-8.5414",
         "14.1482",
         "16.984",
         "6.1812",
         "1.9548",
         "9.2048",
         "8.6591",
         "-27.7439",
         "-0.4952",
         "-1.7839",
         "5.267",
         "-4.3205",
         "6.986000000000001",
         "1.6184",
         "5.0301",
         "-3.2431",
         "40.1236",
         "0.7737",
         "-0.7264",
         "4.5886",
         "-4.5346",
         "23.3521",
         "1.0273",
         "19.16",
         "7.1734",
         "14.3937",
         "2.9598",
         "13.3317",
         "-9.2587",
         "-6.7075",
         "7.8984",
         "14.5265",
         "7.0799",
         "20.167",
         "8.0053",
         "3.7954",
         "-39.7997",
         "7.0065",
         "9.3627",
         "10.4316",
         "14.0553",
         "0.0213",
         "14.7246",
         "35.2988",
         "1.6844",
         "0.6715",
         "-22.9264",
         "12.3562",
         "17.340999999999998",
         "1.694",
         "7.1179",
         "5.1934",
         "8.823",
         "10.6617",
         "14.0837",
         "28.2749",
         "-0.1937",
         "5.9654",
         "1.0719",
         "7.9923",
         "2.9138",
         "-3.6135",
         "1.4684",
         "25.6795",
         "13.8224",
         "4.7478",
         "41.1037",
         "12.714",
         "5.2964",
         "9.7289",
         "3.937",
         "12.1316",
         "12.5815",
         "7.0642",
         "5.6518",
         "10.9346",
         "11.4266",
         "0.9442",
         "7.7532",
         "6.6173",
         "-6.8304",
         "6.473",
         "17.1728",
         "25.8128",
         "2.6791",
         "13.9547",
         "6.6289",
         "-4.3965",
         "11.7159",
         "16.108",
         "7.6874",
         "9.157",
         "11.567",
         "-12.7047",
         "3.7574",
         "9.911",
         "20.1461",
         "1.2995",
         "5.8493",
         "19.8234",
         "4.7022",
         "10.6101",
         "13.0021",
         "-12.6068",
         "27.0846",
         "8.0913",
         "33.5107",
         "5.6953",
         "5.4663",
         "18.2201",
         "6.5769",
         "21.2607",
         "3.2304",
         "-1.7759",
         "3.1283",
         "5.5518",
         "1.4493",
         "-2.6627",
         "19.8056",
         "2.3705",
         "18.4685",
         "16.3309",
         "-3.3456",
         "13.5261",
         "1.7189",
         "5.1743",
         "-7.6938",
         "9.7685",
         "4.891",
         "12.2198",
         "11.8503",
         "-7.8931",
         "6.4209",
         "5.9270000000000005",
         "16.0201",
         "-0.2829",
         "-1.4905",
         "9.5214",
         "-0.1508",
         "9.1942",
         "13.2876",
         "-1.5121",
         "3.9267",
         "9.5031",
         "17.9974",
         "-8.8104",
         "False"
        ]
       ],
       "shape": {
        "columns": 201,
        "rows": 5
       }
      },
      "text/html": [
       "<div>\n",
       "<style scoped>\n",
       "    .dataframe tbody tr th:only-of-type {\n",
       "        vertical-align: middle;\n",
       "    }\n",
       "\n",
       "    .dataframe tbody tr th {\n",
       "        vertical-align: top;\n",
       "    }\n",
       "\n",
       "    .dataframe thead th {\n",
       "        text-align: right;\n",
       "    }\n",
       "</style>\n",
       "<table border=\"1\" class=\"dataframe\">\n",
       "  <thead>\n",
       "    <tr style=\"text-align: right;\">\n",
       "      <th></th>\n",
       "      <th>var_0</th>\n",
       "      <th>var_1</th>\n",
       "      <th>var_2</th>\n",
       "      <th>var_3</th>\n",
       "      <th>var_4</th>\n",
       "      <th>var_5</th>\n",
       "      <th>var_6</th>\n",
       "      <th>var_7</th>\n",
       "      <th>var_8</th>\n",
       "      <th>var_9</th>\n",
       "      <th>...</th>\n",
       "      <th>var_191</th>\n",
       "      <th>var_192</th>\n",
       "      <th>var_193</th>\n",
       "      <th>var_194</th>\n",
       "      <th>var_195</th>\n",
       "      <th>var_196</th>\n",
       "      <th>var_197</th>\n",
       "      <th>var_198</th>\n",
       "      <th>var_199</th>\n",
       "      <th>target</th>\n",
       "    </tr>\n",
       "  </thead>\n",
       "  <tbody>\n",
       "    <tr>\n",
       "      <th>0</th>\n",
       "      <td>8.9255</td>\n",
       "      <td>-6.7863</td>\n",
       "      <td>11.9081</td>\n",
       "      <td>5.0930</td>\n",
       "      <td>11.4607</td>\n",
       "      <td>-9.2834</td>\n",
       "      <td>5.1187</td>\n",
       "      <td>18.6266</td>\n",
       "      <td>-4.9200</td>\n",
       "      <td>5.7470</td>\n",
       "      <td>...</td>\n",
       "      <td>3.9642</td>\n",
       "      <td>3.1364</td>\n",
       "      <td>1.6910</td>\n",
       "      <td>18.5227</td>\n",
       "      <td>-2.3978</td>\n",
       "      <td>7.8784</td>\n",
       "      <td>8.5635</td>\n",
       "      <td>12.7803</td>\n",
       "      <td>-1.0914</td>\n",
       "      <td>False</td>\n",
       "    </tr>\n",
       "    <tr>\n",
       "      <th>1</th>\n",
       "      <td>11.5006</td>\n",
       "      <td>-4.1473</td>\n",
       "      <td>13.8588</td>\n",
       "      <td>5.3890</td>\n",
       "      <td>12.3622</td>\n",
       "      <td>7.0433</td>\n",
       "      <td>5.6208</td>\n",
       "      <td>16.5338</td>\n",
       "      <td>3.1468</td>\n",
       "      <td>8.0851</td>\n",
       "      <td>...</td>\n",
       "      <td>7.7214</td>\n",
       "      <td>2.5837</td>\n",
       "      <td>10.9516</td>\n",
       "      <td>15.4305</td>\n",
       "      <td>2.0339</td>\n",
       "      <td>8.1267</td>\n",
       "      <td>8.7889</td>\n",
       "      <td>18.3560</td>\n",
       "      <td>1.9518</td>\n",
       "      <td>False</td>\n",
       "    </tr>\n",
       "    <tr>\n",
       "      <th>2</th>\n",
       "      <td>8.6093</td>\n",
       "      <td>-2.7457</td>\n",
       "      <td>12.0805</td>\n",
       "      <td>7.8928</td>\n",
       "      <td>10.5825</td>\n",
       "      <td>-9.0837</td>\n",
       "      <td>6.9427</td>\n",
       "      <td>14.6155</td>\n",
       "      <td>-4.9193</td>\n",
       "      <td>5.9525</td>\n",
       "      <td>...</td>\n",
       "      <td>9.7905</td>\n",
       "      <td>1.6704</td>\n",
       "      <td>1.6858</td>\n",
       "      <td>21.6042</td>\n",
       "      <td>3.1417</td>\n",
       "      <td>-6.5213</td>\n",
       "      <td>8.2675</td>\n",
       "      <td>14.7222</td>\n",
       "      <td>0.3965</td>\n",
       "      <td>False</td>\n",
       "    </tr>\n",
       "    <tr>\n",
       "      <th>3</th>\n",
       "      <td>11.0604</td>\n",
       "      <td>-2.1518</td>\n",
       "      <td>8.9522</td>\n",
       "      <td>7.1957</td>\n",
       "      <td>12.5846</td>\n",
       "      <td>-1.8361</td>\n",
       "      <td>5.8428</td>\n",
       "      <td>14.9250</td>\n",
       "      <td>-5.8609</td>\n",
       "      <td>8.2450</td>\n",
       "      <td>...</td>\n",
       "      <td>4.7433</td>\n",
       "      <td>0.7178</td>\n",
       "      <td>1.4214</td>\n",
       "      <td>23.0347</td>\n",
       "      <td>-1.2706</td>\n",
       "      <td>-2.9275</td>\n",
       "      <td>10.2922</td>\n",
       "      <td>17.9697</td>\n",
       "      <td>-8.9996</td>\n",
       "      <td>False</td>\n",
       "    </tr>\n",
       "    <tr>\n",
       "      <th>4</th>\n",
       "      <td>9.8369</td>\n",
       "      <td>-1.4834</td>\n",
       "      <td>12.8746</td>\n",
       "      <td>6.6375</td>\n",
       "      <td>12.2772</td>\n",
       "      <td>2.4486</td>\n",
       "      <td>5.9405</td>\n",
       "      <td>19.2514</td>\n",
       "      <td>6.2654</td>\n",
       "      <td>7.6784</td>\n",
       "      <td>...</td>\n",
       "      <td>9.5214</td>\n",
       "      <td>-0.1508</td>\n",
       "      <td>9.1942</td>\n",
       "      <td>13.2876</td>\n",
       "      <td>-1.5121</td>\n",
       "      <td>3.9267</td>\n",
       "      <td>9.5031</td>\n",
       "      <td>17.9974</td>\n",
       "      <td>-8.8104</td>\n",
       "      <td>False</td>\n",
       "    </tr>\n",
       "  </tbody>\n",
       "</table>\n",
       "<p>5 rows × 201 columns</p>\n",
       "</div>"
      ],
      "text/plain": [
       "     var_0   var_1    var_2   var_3    var_4   var_5   var_6    var_7   var_8  \\\n",
       "0   8.9255 -6.7863  11.9081  5.0930  11.4607 -9.2834  5.1187  18.6266 -4.9200   \n",
       "1  11.5006 -4.1473  13.8588  5.3890  12.3622  7.0433  5.6208  16.5338  3.1468   \n",
       "2   8.6093 -2.7457  12.0805  7.8928  10.5825 -9.0837  6.9427  14.6155 -4.9193   \n",
       "3  11.0604 -2.1518   8.9522  7.1957  12.5846 -1.8361  5.8428  14.9250 -5.8609   \n",
       "4   9.8369 -1.4834  12.8746  6.6375  12.2772  2.4486  5.9405  19.2514  6.2654   \n",
       "\n",
       "    var_9  ...  var_191  var_192  var_193  var_194  var_195  var_196  var_197  \\\n",
       "0  5.7470  ...   3.9642   3.1364   1.6910  18.5227  -2.3978   7.8784   8.5635   \n",
       "1  8.0851  ...   7.7214   2.5837  10.9516  15.4305   2.0339   8.1267   8.7889   \n",
       "2  5.9525  ...   9.7905   1.6704   1.6858  21.6042   3.1417  -6.5213   8.2675   \n",
       "3  8.2450  ...   4.7433   0.7178   1.4214  23.0347  -1.2706  -2.9275  10.2922   \n",
       "4  7.6784  ...   9.5214  -0.1508   9.1942  13.2876  -1.5121   3.9267   9.5031   \n",
       "\n",
       "   var_198  var_199  target  \n",
       "0  12.7803  -1.0914   False  \n",
       "1  18.3560   1.9518   False  \n",
       "2  14.7222   0.3965   False  \n",
       "3  17.9697  -8.9996   False  \n",
       "4  17.9974  -8.8104   False  \n",
       "\n",
       "[5 rows x 201 columns]"
      ]
     },
     "execution_count": 4,
     "metadata": {},
     "output_type": "execute_result"
    }
   ],
   "source": [
    "raw_df.head()"
   ]
  },
  {
   "cell_type": "code",
   "execution_count": 5,
   "id": "861411a8",
   "metadata": {},
   "outputs": [
    {
     "name": "stdout",
     "output_type": "stream",
     "text": [
      "<class 'pandas.core.frame.DataFrame'>\n",
      "RangeIndex: 200000 entries, 0 to 199999\n",
      "Columns: 201 entries, var_0 to target\n",
      "dtypes: bool(1), float64(200)\n",
      "memory usage: 305.4 MB\n"
     ]
    }
   ],
   "source": [
    "raw_df.info()"
   ]
  },
  {
   "cell_type": "code",
   "execution_count": 6,
   "id": "aa10811a",
   "metadata": {},
   "outputs": [
    {
     "data": {
      "application/vnd.microsoft.datawrangler.viewer.v0+json": {
       "columns": [
        {
         "name": "index",
         "rawType": "object",
         "type": "string"
        },
        {
         "name": "var_0",
         "rawType": "float64",
         "type": "float"
        },
        {
         "name": "var_1",
         "rawType": "float64",
         "type": "float"
        },
        {
         "name": "var_2",
         "rawType": "float64",
         "type": "float"
        },
        {
         "name": "var_3",
         "rawType": "float64",
         "type": "float"
        },
        {
         "name": "var_4",
         "rawType": "float64",
         "type": "float"
        },
        {
         "name": "var_5",
         "rawType": "float64",
         "type": "float"
        },
        {
         "name": "var_6",
         "rawType": "float64",
         "type": "float"
        },
        {
         "name": "var_7",
         "rawType": "float64",
         "type": "float"
        },
        {
         "name": "var_8",
         "rawType": "float64",
         "type": "float"
        },
        {
         "name": "var_9",
         "rawType": "float64",
         "type": "float"
        },
        {
         "name": "var_10",
         "rawType": "float64",
         "type": "float"
        },
        {
         "name": "var_11",
         "rawType": "float64",
         "type": "float"
        },
        {
         "name": "var_12",
         "rawType": "float64",
         "type": "float"
        },
        {
         "name": "var_13",
         "rawType": "float64",
         "type": "float"
        },
        {
         "name": "var_14",
         "rawType": "float64",
         "type": "float"
        },
        {
         "name": "var_15",
         "rawType": "float64",
         "type": "float"
        },
        {
         "name": "var_16",
         "rawType": "float64",
         "type": "float"
        },
        {
         "name": "var_17",
         "rawType": "float64",
         "type": "float"
        },
        {
         "name": "var_18",
         "rawType": "float64",
         "type": "float"
        },
        {
         "name": "var_19",
         "rawType": "float64",
         "type": "float"
        },
        {
         "name": "var_20",
         "rawType": "float64",
         "type": "float"
        },
        {
         "name": "var_21",
         "rawType": "float64",
         "type": "float"
        },
        {
         "name": "var_22",
         "rawType": "float64",
         "type": "float"
        },
        {
         "name": "var_23",
         "rawType": "float64",
         "type": "float"
        },
        {
         "name": "var_24",
         "rawType": "float64",
         "type": "float"
        },
        {
         "name": "var_25",
         "rawType": "float64",
         "type": "float"
        },
        {
         "name": "var_26",
         "rawType": "float64",
         "type": "float"
        },
        {
         "name": "var_27",
         "rawType": "float64",
         "type": "float"
        },
        {
         "name": "var_28",
         "rawType": "float64",
         "type": "float"
        },
        {
         "name": "var_29",
         "rawType": "float64",
         "type": "float"
        },
        {
         "name": "var_30",
         "rawType": "float64",
         "type": "float"
        },
        {
         "name": "var_31",
         "rawType": "float64",
         "type": "float"
        },
        {
         "name": "var_32",
         "rawType": "float64",
         "type": "float"
        },
        {
         "name": "var_33",
         "rawType": "float64",
         "type": "float"
        },
        {
         "name": "var_34",
         "rawType": "float64",
         "type": "float"
        },
        {
         "name": "var_35",
         "rawType": "float64",
         "type": "float"
        },
        {
         "name": "var_36",
         "rawType": "float64",
         "type": "float"
        },
        {
         "name": "var_37",
         "rawType": "float64",
         "type": "float"
        },
        {
         "name": "var_38",
         "rawType": "float64",
         "type": "float"
        },
        {
         "name": "var_39",
         "rawType": "float64",
         "type": "float"
        },
        {
         "name": "var_40",
         "rawType": "float64",
         "type": "float"
        },
        {
         "name": "var_41",
         "rawType": "float64",
         "type": "float"
        },
        {
         "name": "var_42",
         "rawType": "float64",
         "type": "float"
        },
        {
         "name": "var_43",
         "rawType": "float64",
         "type": "float"
        },
        {
         "name": "var_44",
         "rawType": "float64",
         "type": "float"
        },
        {
         "name": "var_45",
         "rawType": "float64",
         "type": "float"
        },
        {
         "name": "var_46",
         "rawType": "float64",
         "type": "float"
        },
        {
         "name": "var_47",
         "rawType": "float64",
         "type": "float"
        },
        {
         "name": "var_48",
         "rawType": "float64",
         "type": "float"
        },
        {
         "name": "var_49",
         "rawType": "float64",
         "type": "float"
        },
        {
         "name": "var_50",
         "rawType": "float64",
         "type": "float"
        },
        {
         "name": "var_51",
         "rawType": "float64",
         "type": "float"
        },
        {
         "name": "var_52",
         "rawType": "float64",
         "type": "float"
        },
        {
         "name": "var_53",
         "rawType": "float64",
         "type": "float"
        },
        {
         "name": "var_54",
         "rawType": "float64",
         "type": "float"
        },
        {
         "name": "var_55",
         "rawType": "float64",
         "type": "float"
        },
        {
         "name": "var_56",
         "rawType": "float64",
         "type": "float"
        },
        {
         "name": "var_57",
         "rawType": "float64",
         "type": "float"
        },
        {
         "name": "var_58",
         "rawType": "float64",
         "type": "float"
        },
        {
         "name": "var_59",
         "rawType": "float64",
         "type": "float"
        },
        {
         "name": "var_60",
         "rawType": "float64",
         "type": "float"
        },
        {
         "name": "var_61",
         "rawType": "float64",
         "type": "float"
        },
        {
         "name": "var_62",
         "rawType": "float64",
         "type": "float"
        },
        {
         "name": "var_63",
         "rawType": "float64",
         "type": "float"
        },
        {
         "name": "var_64",
         "rawType": "float64",
         "type": "float"
        },
        {
         "name": "var_65",
         "rawType": "float64",
         "type": "float"
        },
        {
         "name": "var_66",
         "rawType": "float64",
         "type": "float"
        },
        {
         "name": "var_67",
         "rawType": "float64",
         "type": "float"
        },
        {
         "name": "var_68",
         "rawType": "float64",
         "type": "float"
        },
        {
         "name": "var_69",
         "rawType": "float64",
         "type": "float"
        },
        {
         "name": "var_70",
         "rawType": "float64",
         "type": "float"
        },
        {
         "name": "var_71",
         "rawType": "float64",
         "type": "float"
        },
        {
         "name": "var_72",
         "rawType": "float64",
         "type": "float"
        },
        {
         "name": "var_73",
         "rawType": "float64",
         "type": "float"
        },
        {
         "name": "var_74",
         "rawType": "float64",
         "type": "float"
        },
        {
         "name": "var_75",
         "rawType": "float64",
         "type": "float"
        },
        {
         "name": "var_76",
         "rawType": "float64",
         "type": "float"
        },
        {
         "name": "var_77",
         "rawType": "float64",
         "type": "float"
        },
        {
         "name": "var_78",
         "rawType": "float64",
         "type": "float"
        },
        {
         "name": "var_79",
         "rawType": "float64",
         "type": "float"
        },
        {
         "name": "var_80",
         "rawType": "float64",
         "type": "float"
        },
        {
         "name": "var_81",
         "rawType": "float64",
         "type": "float"
        },
        {
         "name": "var_82",
         "rawType": "float64",
         "type": "float"
        },
        {
         "name": "var_83",
         "rawType": "float64",
         "type": "float"
        },
        {
         "name": "var_84",
         "rawType": "float64",
         "type": "float"
        },
        {
         "name": "var_85",
         "rawType": "float64",
         "type": "float"
        },
        {
         "name": "var_86",
         "rawType": "float64",
         "type": "float"
        },
        {
         "name": "var_87",
         "rawType": "float64",
         "type": "float"
        },
        {
         "name": "var_88",
         "rawType": "float64",
         "type": "float"
        },
        {
         "name": "var_89",
         "rawType": "float64",
         "type": "float"
        },
        {
         "name": "var_90",
         "rawType": "float64",
         "type": "float"
        },
        {
         "name": "var_91",
         "rawType": "float64",
         "type": "float"
        },
        {
         "name": "var_92",
         "rawType": "float64",
         "type": "float"
        },
        {
         "name": "var_93",
         "rawType": "float64",
         "type": "float"
        },
        {
         "name": "var_94",
         "rawType": "float64",
         "type": "float"
        },
        {
         "name": "var_95",
         "rawType": "float64",
         "type": "float"
        },
        {
         "name": "var_96",
         "rawType": "float64",
         "type": "float"
        },
        {
         "name": "var_97",
         "rawType": "float64",
         "type": "float"
        },
        {
         "name": "var_98",
         "rawType": "float64",
         "type": "float"
        },
        {
         "name": "var_99",
         "rawType": "float64",
         "type": "float"
        },
        {
         "name": "var_100",
         "rawType": "float64",
         "type": "float"
        },
        {
         "name": "var_101",
         "rawType": "float64",
         "type": "float"
        },
        {
         "name": "var_102",
         "rawType": "float64",
         "type": "float"
        },
        {
         "name": "var_103",
         "rawType": "float64",
         "type": "float"
        },
        {
         "name": "var_104",
         "rawType": "float64",
         "type": "float"
        },
        {
         "name": "var_105",
         "rawType": "float64",
         "type": "float"
        },
        {
         "name": "var_106",
         "rawType": "float64",
         "type": "float"
        },
        {
         "name": "var_107",
         "rawType": "float64",
         "type": "float"
        },
        {
         "name": "var_108",
         "rawType": "float64",
         "type": "float"
        },
        {
         "name": "var_109",
         "rawType": "float64",
         "type": "float"
        },
        {
         "name": "var_110",
         "rawType": "float64",
         "type": "float"
        },
        {
         "name": "var_111",
         "rawType": "float64",
         "type": "float"
        },
        {
         "name": "var_112",
         "rawType": "float64",
         "type": "float"
        },
        {
         "name": "var_113",
         "rawType": "float64",
         "type": "float"
        },
        {
         "name": "var_114",
         "rawType": "float64",
         "type": "float"
        },
        {
         "name": "var_115",
         "rawType": "float64",
         "type": "float"
        },
        {
         "name": "var_116",
         "rawType": "float64",
         "type": "float"
        },
        {
         "name": "var_117",
         "rawType": "float64",
         "type": "float"
        },
        {
         "name": "var_118",
         "rawType": "float64",
         "type": "float"
        },
        {
         "name": "var_119",
         "rawType": "float64",
         "type": "float"
        },
        {
         "name": "var_120",
         "rawType": "float64",
         "type": "float"
        },
        {
         "name": "var_121",
         "rawType": "float64",
         "type": "float"
        },
        {
         "name": "var_122",
         "rawType": "float64",
         "type": "float"
        },
        {
         "name": "var_123",
         "rawType": "float64",
         "type": "float"
        },
        {
         "name": "var_124",
         "rawType": "float64",
         "type": "float"
        },
        {
         "name": "var_125",
         "rawType": "float64",
         "type": "float"
        },
        {
         "name": "var_126",
         "rawType": "float64",
         "type": "float"
        },
        {
         "name": "var_127",
         "rawType": "float64",
         "type": "float"
        },
        {
         "name": "var_128",
         "rawType": "float64",
         "type": "float"
        },
        {
         "name": "var_129",
         "rawType": "float64",
         "type": "float"
        },
        {
         "name": "var_130",
         "rawType": "float64",
         "type": "float"
        },
        {
         "name": "var_131",
         "rawType": "float64",
         "type": "float"
        },
        {
         "name": "var_132",
         "rawType": "float64",
         "type": "float"
        },
        {
         "name": "var_133",
         "rawType": "float64",
         "type": "float"
        },
        {
         "name": "var_134",
         "rawType": "float64",
         "type": "float"
        },
        {
         "name": "var_135",
         "rawType": "float64",
         "type": "float"
        },
        {
         "name": "var_136",
         "rawType": "float64",
         "type": "float"
        },
        {
         "name": "var_137",
         "rawType": "float64",
         "type": "float"
        },
        {
         "name": "var_138",
         "rawType": "float64",
         "type": "float"
        },
        {
         "name": "var_139",
         "rawType": "float64",
         "type": "float"
        },
        {
         "name": "var_140",
         "rawType": "float64",
         "type": "float"
        },
        {
         "name": "var_141",
         "rawType": "float64",
         "type": "float"
        },
        {
         "name": "var_142",
         "rawType": "float64",
         "type": "float"
        },
        {
         "name": "var_143",
         "rawType": "float64",
         "type": "float"
        },
        {
         "name": "var_144",
         "rawType": "float64",
         "type": "float"
        },
        {
         "name": "var_145",
         "rawType": "float64",
         "type": "float"
        },
        {
         "name": "var_146",
         "rawType": "float64",
         "type": "float"
        },
        {
         "name": "var_147",
         "rawType": "float64",
         "type": "float"
        },
        {
         "name": "var_148",
         "rawType": "float64",
         "type": "float"
        },
        {
         "name": "var_149",
         "rawType": "float64",
         "type": "float"
        },
        {
         "name": "var_150",
         "rawType": "float64",
         "type": "float"
        },
        {
         "name": "var_151",
         "rawType": "float64",
         "type": "float"
        },
        {
         "name": "var_152",
         "rawType": "float64",
         "type": "float"
        },
        {
         "name": "var_153",
         "rawType": "float64",
         "type": "float"
        },
        {
         "name": "var_154",
         "rawType": "float64",
         "type": "float"
        },
        {
         "name": "var_155",
         "rawType": "float64",
         "type": "float"
        },
        {
         "name": "var_156",
         "rawType": "float64",
         "type": "float"
        },
        {
         "name": "var_157",
         "rawType": "float64",
         "type": "float"
        },
        {
         "name": "var_158",
         "rawType": "float64",
         "type": "float"
        },
        {
         "name": "var_159",
         "rawType": "float64",
         "type": "float"
        },
        {
         "name": "var_160",
         "rawType": "float64",
         "type": "float"
        },
        {
         "name": "var_161",
         "rawType": "float64",
         "type": "float"
        },
        {
         "name": "var_162",
         "rawType": "float64",
         "type": "float"
        },
        {
         "name": "var_163",
         "rawType": "float64",
         "type": "float"
        },
        {
         "name": "var_164",
         "rawType": "float64",
         "type": "float"
        },
        {
         "name": "var_165",
         "rawType": "float64",
         "type": "float"
        },
        {
         "name": "var_166",
         "rawType": "float64",
         "type": "float"
        },
        {
         "name": "var_167",
         "rawType": "float64",
         "type": "float"
        },
        {
         "name": "var_168",
         "rawType": "float64",
         "type": "float"
        },
        {
         "name": "var_169",
         "rawType": "float64",
         "type": "float"
        },
        {
         "name": "var_170",
         "rawType": "float64",
         "type": "float"
        },
        {
         "name": "var_171",
         "rawType": "float64",
         "type": "float"
        },
        {
         "name": "var_172",
         "rawType": "float64",
         "type": "float"
        },
        {
         "name": "var_173",
         "rawType": "float64",
         "type": "float"
        },
        {
         "name": "var_174",
         "rawType": "float64",
         "type": "float"
        },
        {
         "name": "var_175",
         "rawType": "float64",
         "type": "float"
        },
        {
         "name": "var_176",
         "rawType": "float64",
         "type": "float"
        },
        {
         "name": "var_177",
         "rawType": "float64",
         "type": "float"
        },
        {
         "name": "var_178",
         "rawType": "float64",
         "type": "float"
        },
        {
         "name": "var_179",
         "rawType": "float64",
         "type": "float"
        },
        {
         "name": "var_180",
         "rawType": "float64",
         "type": "float"
        },
        {
         "name": "var_181",
         "rawType": "float64",
         "type": "float"
        },
        {
         "name": "var_182",
         "rawType": "float64",
         "type": "float"
        },
        {
         "name": "var_183",
         "rawType": "float64",
         "type": "float"
        },
        {
         "name": "var_184",
         "rawType": "float64",
         "type": "float"
        },
        {
         "name": "var_185",
         "rawType": "float64",
         "type": "float"
        },
        {
         "name": "var_186",
         "rawType": "float64",
         "type": "float"
        },
        {
         "name": "var_187",
         "rawType": "float64",
         "type": "float"
        },
        {
         "name": "var_188",
         "rawType": "float64",
         "type": "float"
        },
        {
         "name": "var_189",
         "rawType": "float64",
         "type": "float"
        },
        {
         "name": "var_190",
         "rawType": "float64",
         "type": "float"
        },
        {
         "name": "var_191",
         "rawType": "float64",
         "type": "float"
        },
        {
         "name": "var_192",
         "rawType": "float64",
         "type": "float"
        },
        {
         "name": "var_193",
         "rawType": "float64",
         "type": "float"
        },
        {
         "name": "var_194",
         "rawType": "float64",
         "type": "float"
        },
        {
         "name": "var_195",
         "rawType": "float64",
         "type": "float"
        },
        {
         "name": "var_196",
         "rawType": "float64",
         "type": "float"
        },
        {
         "name": "var_197",
         "rawType": "float64",
         "type": "float"
        },
        {
         "name": "var_198",
         "rawType": "float64",
         "type": "float"
        },
        {
         "name": "var_199",
         "rawType": "float64",
         "type": "float"
        }
       ],
       "ref": "1e22d837-2094-4e58-87ff-4f4c952a327b",
       "rows": [
        [
         "mean",
         "10.679914251999998",
         "-1.6276216895",
         "10.715191851000002",
         "6.796529157",
         "11.078333240500001",
         "-5.0653174935",
         "5.4089486815",
         "16.545849889499998",
         "0.28416185",
         "7.567236361499998",
         "0.3943404409999998",
         "-3.2455960884999997",
         "14.023977798499999",
         "8.530232378999997",
         "7.5376061135000025",
         "14.573125859000001",
         "9.3332641825",
         "-5.696731002",
         "15.244013001999999",
         "12.438567329499998",
         "13.2908941205",
         "17.257882793000004",
         "4.3054304705",
         "3.0195397695000006",
         "10.584400070500001",
         "13.667496002999997",
         "-4.055133277",
         "-1.1379075224999997",
         "5.53297958",
         "5.0538735589999995",
         "-7.6877395945000035",
         "10.393045872000002",
         "-0.5128855335",
         "14.7741467185",
         "11.434249707999998",
         "3.8424991540000004",
         "2.1872295715000005",
         "5.868899321000001",
         "10.642130851000001",
         "0.6629564005",
         "-6.725505203",
         "9.299858002",
         "11.222356093500002",
         "11.5699539",
         "8.948288796500002",
         "-12.6996668205",
         "11.326487955999998",
         "-12.471737158499996",
         "14.7047127185",
         "16.6824987025",
         "12.740985916",
         "13.428911726",
         "-2.5288156159999997",
         "6.0085688",
         "1.137116864",
         "12.745851658000001",
         "16.629164889000002",
         "6.2720135159999995",
         "3.1776331530000004",
         "8.9311241245",
         "12.155618231499998",
         "-11.946744154000003",
         "0.8741702705000001",
         "0.6611733995",
         "6.369157323000001",
         "0.9828914824999998",
         "5.7940388985",
         "11.943223381000001",
         "5.018893456000002",
         "-3.3315150865000005",
         "24.446811051000005",
         "0.669755893",
         "0.6405532485",
         "19.610887772499996",
         "19.518845928",
         "16.853731765000003",
         "6.050871454",
         "19.066992556",
         "5.349479312499999",
         "14.402136341500002",
         "5.795043557000002",
         "14.7190238585",
         "-3.4712732400000004",
         "1.0258167765000001",
         "-2.5902087600000003",
         "18.362720644499994",
         "5.6210584225",
         "11.351483195500002",
         "8.702923521499999",
         "3.7252079274999996",
         "-16.548147024000002",
         "6.9875414695",
         "12.739578443",
         "10.556739837000002",
         "10.999161667",
         "-0.084344253",
         "14.400433117",
         "18.5396446215",
         "1.7520119760000004",
         "-0.7462960345000001",
         "-6.600518324500002",
         "13.4135261765",
         "22.294908152",
         "1.5683925405",
         "11.509834017999996",
         "4.244743821",
         "8.617657006000002",
         "17.7962655475",
         "14.224435357",
         "18.4580011445",
         "5.513238000999999",
         "6.312602913999998",
         "3.3178433450000004",
         "8.136541668",
         "3.0811911915000003",
         "2.2137167265",
         "2.4025696590000005",
         "16.102233313000003",
         "-5.3051323629999985",
         "3.032848598",
         "24.521077860500007",
         "11.310591073500001",
         "1.1929837194999995",
         "7.076253564999999",
         "4.2727401095",
         "12.489164999000002",
         "13.202325819000004",
         "0.8515071519999999",
         "-1.1279520465",
         "15.4603143455",
         "12.257150888500004",
         "0.5446735375",
         "7.799675918000002",
         "6.813270463",
         "-4.826052545999999",
         "-4.2594721635",
         "22.968601605000003",
         "17.613651327499998",
         "1.2107915105",
         "7.760193281",
         "3.423636422",
         "2.8975962194999996",
         "11.983488539999998",
         "12.333697980500004",
         "8.647631575",
         "4.8413275285",
         "10.3411778935",
         "-3.300779141",
         "3.990725669",
         "5.2962367200000005",
         "16.817671238000003",
         "10.141541544499997",
         "7.633199000499999",
         "16.727902174999997",
         "6.974954836999999",
         "-2.074127825",
         "13.209272123499996",
         "-4.813551722999999",
         "17.914590597500002",
         "10.223282276499999",
         "24.259300121",
         "5.633292535999999",
         "5.3628964985",
         "11.002169658000001",
         "-2.8719062955",
         "19.315753234000006",
         "2.9633350695000003",
         "-4.1511545325",
         "4.937123965499999",
         "5.636008345",
         "-0.0049620604999999944",
         "-0.8317765935",
         "19.817093824999997",
         "-0.6779670025",
         "20.210676787999997",
         "11.640612669500003",
         "-2.7995846820000008",
         "11.8829333875",
         "-1.0140635939999998",
         "2.59144367",
         "-2.7416661244999996",
         "10.085518355",
         "0.7191090935",
         "8.769087543499998",
         "12.756676405999999",
         "-3.9832606964999995",
         "8.970274164500001",
         "-10.335042614",
         "15.377174498999999",
         "0.7460716689999998",
         "3.234439776",
         "7.438408336999999",
         "1.9278385139999998",
         "3.3317736844999994",
         "17.993784183000002",
         "-0.14208843350000003",
         "2.3033352435",
         "8.9081576835",
         "15.870720248",
         "-3.3265369005000003"
        ],
        [
         "std",
         "3.040050870668801",
         "4.050044189955011",
         "2.640894191799927",
         "2.0433190163597184",
         "1.6231495339368662",
         "7.863266683476754",
         "0.8666072662169084",
         "3.418075578937139",
         "3.332633536717585",
         "1.235069925299941",
         "5.500793007191889",
         "5.970253095505347",
         "0.19005923307538608",
         "4.639535502007212",
         "2.247908245057645",
         "0.41171142186377",
         "2.5574209936662666",
         "6.712612437614552",
         "7.851370241294005",
         "7.996693808364856",
         "5.876253905644921",
         "8.196563646022906",
         "2.8479579398264674",
         "0.5268934534183379",
         "3.7772452295430825",
         "0.28553546188262435",
         "5.922209781187795",
         "1.523714225708139",
         "0.7833672777788555",
         "2.615941510224772",
         "7.96519822526346",
         "2.1598906041093113",
         "2.5878295441300505",
         "4.322324785505145",
         "0.541614196549085",
         "5.179558998997699",
         "3.119977835319585",
         "2.2497298774487597",
         "4.278902835025862",
         "4.068844666306702",
         "8.279259190080031",
         "5.9380875930028285",
         "0.6959910936128322",
         "0.3095994237520591",
         "5.9030729557361985",
         "21.404911544677045",
         "2.8605106499241697",
         "10.579861528912659",
         "11.38433176258042",
         "7.855762488129508",
         "0.6917090672488149",
         "8.18730589976902",
         "4.985532259550098",
         "0.7647529817394364",
         "8.414241118728796",
         "5.690072147133658",
         "3.5401738815672976",
         "0.7950261413770973",
         "4.296685916972876",
         "0.8547981603289848",
         "4.2223892302838415",
         "11.62294817404791",
         "2.026237549584527",
         "3.1130890250495655",
         "1.4858537950937523",
         "3.7864934479479606",
         "1.1213655498134054",
         "7.3651152088908445",
         "0.007186267883143506",
         "3.9557227549353553",
         "11.951741643446276",
         "0.26669612131409076",
         "3.944702831427337",
         "7.466303345873302",
         "14.112590694715564",
         "6.055321599453849",
         "7.9383512531943",
         "3.8172924643985775",
         "1.9937920947549006",
         "1.3090548713055725",
         "7.4367367646596625",
         "2.299567114776461",
         "8.479255193664804",
         "8.29722908705552",
         "6.22530548715491",
         "3.908535978882602",
         "7.751142048095871",
         "5.661867041621059",
         "2.491460035744805",
         "3.5605535139115694",
         "13.152809532259244",
         "0.15264066174512272",
         "4.186251603047752",
         "0.5433410941699892",
         "2.768098548404116",
         "0.6211252898563221",
         "8.525399871814509",
         "12.642382102731215",
         "0.7158356568691011",
         "1.8625496145558325",
         "9.181682757889806",
         "4.95053709527308",
         "8.62817937280279",
         "0.1850195477728566",
         "1.9705195374905369",
         "0.8556979951771188",
         "1.8948986470197757",
         "7.6047227704701275",
         "0.17109118336970938",
         "4.355031028968296",
         "3.823253499306589",
         "1.082404009148189",
         "1.5911697012163044",
         "4.45907729719958",
         "0.9853961797001805",
         "2.6218511876950377",
         "1.6509121203188177",
         "13.297662296617753",
         "8.799268140203074",
         "4.182795770746611",
         "12.121015905421157",
         "1.7144163459822415",
         "5.168478732850446",
         "6.147344702482952",
         "2.736821368383057",
         "0.31810008947400037",
         "0.7760555053352279",
         "3.137683640917686",
         "3.238042738716537",
         "4.136452521034206",
         "0.8321990591552468",
         "0.4562802634704515",
         "1.45648618151221",
         "0.3756034952904387",
         "6.166125904940702",
         "7.61773240002705",
         "10.382235181447593",
         "8.890515551770264",
         "4.551749924661086",
         "7.686433041484936",
         "4.896325049051123",
         "6.715637267781747",
         "5.69193566974547",
         "2.9347060178774647",
         "0.9224686019629617",
         "3.899281308225421",
         "2.5188830594002725",
         "7.413301164524529",
         "0.19919248665383096",
         "10.385132666379596",
         "2.464157326553098",
         "3.962425736723361",
         "3.005373306029588",
         "2.014200402856079",
         "4.96167752162211",
         "5.771260979447132",
         "0.955140238273745",
         "5.570271898728026",
         "7.88557904670473",
         "4.122911757583146",
         "10.880262606838524",
         "0.21793832443527478",
         "1.4196122766203692",
         "5.262055707897852",
         "5.457784265798306",
         "5.024182338487214",
         "0.36968448363147904",
         "7.798020114795937",
         "3.105986068834237",
         "0.3694369147251395",
         "4.42462083138626",
         "5.378008476599074",
         "8.674170633042982",
         "5.9666741351965875",
         "7.136426608066063",
         "2.8921671725989144",
         "7.5139390644833695",
         "2.628894617727545",
         "8.579810237462063",
         "2.7989563883535857",
         "5.261242673760175",
         "1.3718623281231537",
         "8.963434063129045",
         "4.474923935994575",
         "9.318280283336767",
         "4.725166882587854",
         "3.1897594379444434",
         "11.57470780029051",
         "3.9446042819514675",
         "0.976347879403209",
         "4.559921679910722",
         "3.0232717947239633",
         "1.4784228923366003",
         "3.992030367901846",
         "3.1351619964266195",
         "1.4293723644084009",
         "5.4543692500693215",
         "0.9216254844938548",
         "3.010945491221765",
         "10.438015107352546"
        ],
        [
         "min",
         "0.4084",
         "-15.0434",
         "2.1171",
         "-0.0402",
         "5.0748",
         "-32.5626",
         "2.3473",
         "5.3497",
         "-10.5055",
         "3.9705",
         "-20.7313",
         "-26.095",
         "13.4346",
         "-6.0111",
         "1.0133",
         "13.0769",
         "0.6351",
         "-33.3802",
         "-10.6642",
         "-12.4025",
         "-5.4322",
         "-10.089",
         "-5.3225",
         "1.2098",
         "-0.6784",
         "12.72",
         "-24.2431",
         "-6.1668",
         "2.0896",
         "-4.7872",
         "-34.7984",
         "2.1406",
         "-8.9861",
         "1.5085",
         "9.8169",
         "-16.5136",
         "-8.0951",
         "-1.1834",
         "-6.3371",
         "-14.5457",
         "-35.2117",
         "-8.5359",
         "8.859",
         "10.6528",
         "-9.9396",
         "-90.2525",
         "1.2062",
         "-47.6862",
         "-23.9022",
         "-8.0707",
         "10.3855",
         "-15.0462",
         "-24.7214",
         "3.3449",
         "-26.7786",
         "-3.7826",
         "2.7618",
         "3.4423",
         "-12.6009",
         "6.184",
         "-2.1006",
         "-48.8027",
         "-6.3289",
         "-10.5544",
         "1.6117",
         "-14.0888",
         "1.3368",
         "-19.5443",
         "4.9938",
         "-16.3094",
         "-17.0275",
         "-0.2239999999999999",
         "-12.3834",
         "-1.6658",
         "-34.1015",
         "-1.2936",
         "-21.6333",
         "7.4257",
         "-1.8183",
         "10.4454",
         "-18.0422",
         "7.5865",
         "-30.0266",
         "-24.2201",
         "-24.4398",
         "7.023",
         "-19.2722",
         "-8.4816",
         "1.3502",
         "-9.6014",
         "-61.718",
         "6.5218",
         "-1.0185",
         "8.4916",
         "2.819",
         "-2.4324",
         "-12.1584",
         "-21.74",
         "-0.6035",
         "-7.2806",
         "-39.1791",
         "0.0757",
         "-7.3829",
         "0.9793",
         "4.0846",
         "0.7153",
         "0.9424",
         "-5.898",
         "13.729",
         "5.7697",
         "-9.2398",
         "2.1942",
         "-2.0302",
         "-5.5139",
         "-0.0505",
         "-6.8586",
         "-3.1630000000000003",
         "-31.8369",
         "-37.5277",
         "-9.7742",
         "-18.6962",
         "6.3052",
         "-15.194",
         "-12.4059",
         "-7.0538",
         "11.4861",
         "11.2654",
         "-8.8769",
         "-11.7559",
         "2.1863",
         "9.5283",
         "-0.9548",
         "2.89",
         "5.3593",
         "-24.2546",
         "-31.3808",
         "-9.9493",
         "-9.851",
         "-16.4684",
         "-21.2743",
         "-15.4595",
         "-16.6937",
         "-7.108",
         "2.8068",
         "5.4443",
         "-8.2734",
         "0.4274",
         "-29.984",
         "3.3205",
         "-41.1683",
         "9.242",
         "-2.1915",
         "-2.88",
         "11.0308",
         "-8.1966",
         "-21.8409",
         "9.9965",
         "-22.9904",
         "-4.5544",
         "-4.6416",
         "-7.4522",
         "4.8526",
         "0.6231",
         "-6.5317",
         "-19.9977",
         "3.8167",
         "1.8512",
         "-35.9695",
         "-5.2502",
         "4.2588",
         "-14.505999999999998",
         "-22.4793",
         "-11.4533",
         "-22.7487",
         "-2.9953",
         "3.2415",
         "-29.1165",
         "4.9521",
         "-29.2734",
         "-7.8561",
         "-22.0374",
         "5.4165",
         "-26.0011",
         "-4.8082",
         "-18.4897",
         "-22.5833",
         "-3.0223",
         "-47.7536",
         "4.4123",
         "-2.5543",
         "-14.0933",
         "-2.6917",
         "-3.8145",
         "-11.7834",
         "8.6944",
         "-5.261",
         "-14.2096",
         "5.9606",
         "6.2993",
         "-38.8528"
        ],
        [
         "max",
         "20.315",
         "10.3768",
         "19.353",
         "13.1883",
         "16.6714",
         "17.2516",
         "8.4477",
         "27.6918",
         "10.1513",
         "11.1506",
         "18.6702",
         "17.1887",
         "14.6545",
         "22.3315",
         "14.9377",
         "15.8633",
         "17.9506",
         "19.0259",
         "41.748000000000005",
         "35.183",
         "31.2859",
         "49.0443",
         "14.5945",
         "4.8752",
         "25.446",
         "14.6546",
         "15.6751",
         "3.2431",
         "8.7874",
         "13.1431",
         "15.6515",
         "20.1719",
         "6.7871",
         "29.5466",
         "13.2878",
         "21.5289",
         "14.2456",
         "11.8638",
         "29.8235",
         "15.3223",
         "18.1056",
         "26.1658",
         "13.4696",
         "12.5779",
         "34.1961",
         "62.0844",
         "21.2939",
         "20.6854",
         "54.2738",
         "41.153",
         "15.3172",
         "40.689",
         "17.0968",
         "8.2315",
         "28.5724",
         "29.0921",
         "29.0741",
         "9.1609",
         "20.4833",
         "11.9867",
         "25.1955",
         "27.1029",
         "7.7536",
         "11.2317",
         "11.1537",
         "15.7313",
         "9.7132",
         "39.3968",
         "5.0469",
         "8.5473",
         "64.4644",
         "1.5719",
         "14.15",
         "44.5361",
         "70.27199999999999",
         "36.1567",
         "34.4352",
         "30.9569",
         "11.3507",
         "18.2256",
         "30.4769",
         "23.1324",
         "21.8934",
         "27.7143",
         "17.7424",
         "32.9011",
         "34.5637",
         "33.3541",
         "17.4594",
         "15.4816",
         "27.2713",
         "7.4895",
         "26.9976",
         "12.5343",
         "18.975",
         "1.804",
         "40.8806",
         "58.2879",
         "4.5028",
         "5.0764",
         "25.1409",
         "28.4594",
         "51.3265",
         "2.1887",
         "19.0206",
         "7.1692",
         "15.3074",
         "46.3795",
         "14.743",
         "32.0591",
         "19.5193",
         "9.8002",
         "8.4317",
         "21.5421",
         "6.585",
         "11.9504",
         "8.1207",
         "64.8109",
         "25.2635",
         "15.6885",
         "74.0321",
         "17.3074",
         "18.4714",
         "26.8749",
         "14.9915",
         "13.6642",
         "15.5156",
         "10.5976",
         "9.8096",
         "31.2036",
         "14.9895",
         "2.1923",
         "12.465",
         "8.3091",
         "12.7236",
         "21.4128",
         "54.5794",
         "44.4376",
         "18.8187",
         "36.0971",
         "21.1219",
         "23.9658",
         "32.8911",
         "22.6916",
         "11.8101",
         "16.0083",
         "20.4373",
         "22.1494",
         "4.7528",
         "48.424",
         "25.4357",
         "21.1245",
         "18.3846",
         "24.0075",
         "23.2428",
         "16.8316",
         "16.497",
         "11.9721",
         "44.7795",
         "25.12",
         "58.3942",
         "6.3099",
         "10.1344",
         "27.5648",
         "12.1193",
         "38.3322",
         "4.2204",
         "21.2766",
         "14.8861",
         "7.089",
         "16.7319",
         "17.9173",
         "53.5919",
         "18.8554",
         "43.5468",
         "20.8548",
         "20.2452",
         "20.5965",
         "29.8413",
         "13.4487",
         "12.7505",
         "14.3939",
         "29.2487",
         "23.7049",
         "44.3634",
         "12.9975",
         "21.7392",
         "22.7861",
         "29.3303",
         "4.0341",
         "18.4409",
         "16.7165",
         "8.4024",
         "18.2818",
         "27.9288",
         "4.2729",
         "18.3215",
         "12.0004",
         "26.0791",
         "28.5007"
        ]
       ],
       "shape": {
        "columns": 200,
        "rows": 4
       }
      },
      "text/html": [
       "<div>\n",
       "<style scoped>\n",
       "    .dataframe tbody tr th:only-of-type {\n",
       "        vertical-align: middle;\n",
       "    }\n",
       "\n",
       "    .dataframe tbody tr th {\n",
       "        vertical-align: top;\n",
       "    }\n",
       "\n",
       "    .dataframe thead th {\n",
       "        text-align: right;\n",
       "    }\n",
       "</style>\n",
       "<table border=\"1\" class=\"dataframe\">\n",
       "  <thead>\n",
       "    <tr style=\"text-align: right;\">\n",
       "      <th></th>\n",
       "      <th>var_0</th>\n",
       "      <th>var_1</th>\n",
       "      <th>var_2</th>\n",
       "      <th>var_3</th>\n",
       "      <th>var_4</th>\n",
       "      <th>var_5</th>\n",
       "      <th>var_6</th>\n",
       "      <th>var_7</th>\n",
       "      <th>var_8</th>\n",
       "      <th>var_9</th>\n",
       "      <th>...</th>\n",
       "      <th>var_190</th>\n",
       "      <th>var_191</th>\n",
       "      <th>var_192</th>\n",
       "      <th>var_193</th>\n",
       "      <th>var_194</th>\n",
       "      <th>var_195</th>\n",
       "      <th>var_196</th>\n",
       "      <th>var_197</th>\n",
       "      <th>var_198</th>\n",
       "      <th>var_199</th>\n",
       "    </tr>\n",
       "  </thead>\n",
       "  <tbody>\n",
       "    <tr>\n",
       "      <th>mean</th>\n",
       "      <td>10.679914</td>\n",
       "      <td>-1.627622</td>\n",
       "      <td>10.715192</td>\n",
       "      <td>6.796529</td>\n",
       "      <td>11.078333</td>\n",
       "      <td>-5.065317</td>\n",
       "      <td>5.408949</td>\n",
       "      <td>16.545850</td>\n",
       "      <td>0.284162</td>\n",
       "      <td>7.567236</td>\n",
       "      <td>...</td>\n",
       "      <td>3.234440</td>\n",
       "      <td>7.438408</td>\n",
       "      <td>1.927839</td>\n",
       "      <td>3.331774</td>\n",
       "      <td>17.993784</td>\n",
       "      <td>-0.142088</td>\n",
       "      <td>2.303335</td>\n",
       "      <td>8.908158</td>\n",
       "      <td>15.870720</td>\n",
       "      <td>-3.326537</td>\n",
       "    </tr>\n",
       "    <tr>\n",
       "      <th>std</th>\n",
       "      <td>3.040051</td>\n",
       "      <td>4.050044</td>\n",
       "      <td>2.640894</td>\n",
       "      <td>2.043319</td>\n",
       "      <td>1.623150</td>\n",
       "      <td>7.863267</td>\n",
       "      <td>0.866607</td>\n",
       "      <td>3.418076</td>\n",
       "      <td>3.332634</td>\n",
       "      <td>1.235070</td>\n",
       "      <td>...</td>\n",
       "      <td>4.559922</td>\n",
       "      <td>3.023272</td>\n",
       "      <td>1.478423</td>\n",
       "      <td>3.992030</td>\n",
       "      <td>3.135162</td>\n",
       "      <td>1.429372</td>\n",
       "      <td>5.454369</td>\n",
       "      <td>0.921625</td>\n",
       "      <td>3.010945</td>\n",
       "      <td>10.438015</td>\n",
       "    </tr>\n",
       "    <tr>\n",
       "      <th>min</th>\n",
       "      <td>0.408400</td>\n",
       "      <td>-15.043400</td>\n",
       "      <td>2.117100</td>\n",
       "      <td>-0.040200</td>\n",
       "      <td>5.074800</td>\n",
       "      <td>-32.562600</td>\n",
       "      <td>2.347300</td>\n",
       "      <td>5.349700</td>\n",
       "      <td>-10.505500</td>\n",
       "      <td>3.970500</td>\n",
       "      <td>...</td>\n",
       "      <td>-14.093300</td>\n",
       "      <td>-2.691700</td>\n",
       "      <td>-3.814500</td>\n",
       "      <td>-11.783400</td>\n",
       "      <td>8.694400</td>\n",
       "      <td>-5.261000</td>\n",
       "      <td>-14.209600</td>\n",
       "      <td>5.960600</td>\n",
       "      <td>6.299300</td>\n",
       "      <td>-38.852800</td>\n",
       "    </tr>\n",
       "    <tr>\n",
       "      <th>max</th>\n",
       "      <td>20.315000</td>\n",
       "      <td>10.376800</td>\n",
       "      <td>19.353000</td>\n",
       "      <td>13.188300</td>\n",
       "      <td>16.671400</td>\n",
       "      <td>17.251600</td>\n",
       "      <td>8.447700</td>\n",
       "      <td>27.691800</td>\n",
       "      <td>10.151300</td>\n",
       "      <td>11.150600</td>\n",
       "      <td>...</td>\n",
       "      <td>18.440900</td>\n",
       "      <td>16.716500</td>\n",
       "      <td>8.402400</td>\n",
       "      <td>18.281800</td>\n",
       "      <td>27.928800</td>\n",
       "      <td>4.272900</td>\n",
       "      <td>18.321500</td>\n",
       "      <td>12.000400</td>\n",
       "      <td>26.079100</td>\n",
       "      <td>28.500700</td>\n",
       "    </tr>\n",
       "  </tbody>\n",
       "</table>\n",
       "<p>4 rows × 200 columns</p>\n",
       "</div>"
      ],
      "text/plain": [
       "          var_0      var_1      var_2      var_3      var_4      var_5  \\\n",
       "mean  10.679914  -1.627622  10.715192   6.796529  11.078333  -5.065317   \n",
       "std    3.040051   4.050044   2.640894   2.043319   1.623150   7.863267   \n",
       "min    0.408400 -15.043400   2.117100  -0.040200   5.074800 -32.562600   \n",
       "max   20.315000  10.376800  19.353000  13.188300  16.671400  17.251600   \n",
       "\n",
       "         var_6      var_7      var_8      var_9  ...    var_190    var_191  \\\n",
       "mean  5.408949  16.545850   0.284162   7.567236  ...   3.234440   7.438408   \n",
       "std   0.866607   3.418076   3.332634   1.235070  ...   4.559922   3.023272   \n",
       "min   2.347300   5.349700 -10.505500   3.970500  ... -14.093300  -2.691700   \n",
       "max   8.447700  27.691800  10.151300  11.150600  ...  18.440900  16.716500   \n",
       "\n",
       "       var_192    var_193    var_194   var_195    var_196    var_197  \\\n",
       "mean  1.927839   3.331774  17.993784 -0.142088   2.303335   8.908158   \n",
       "std   1.478423   3.992030   3.135162  1.429372   5.454369   0.921625   \n",
       "min  -3.814500 -11.783400   8.694400 -5.261000 -14.209600   5.960600   \n",
       "max   8.402400  18.281800  27.928800  4.272900  18.321500  12.000400   \n",
       "\n",
       "        var_198    var_199  \n",
       "mean  15.870720  -3.326537  \n",
       "std    3.010945  10.438015  \n",
       "min    6.299300 -38.852800  \n",
       "max   26.079100  28.500700  \n",
       "\n",
       "[4 rows x 200 columns]"
      ]
     },
     "execution_count": 6,
     "metadata": {},
     "output_type": "execute_result"
    }
   ],
   "source": [
    "(\n",
    "    raw_df\n",
    "    .select_dtypes(include='number')\n",
    "    .aggregate(['mean', 'std', 'min', 'max'])\n",
    ")"
   ]
  },
  {
   "cell_type": "code",
   "execution_count": 7,
   "id": "d9c6dcf6",
   "metadata": {},
   "outputs": [
    {
     "data": {
      "application/vnd.microsoft.datawrangler.viewer.v0+json": {
       "columns": [
        {
         "name": "index",
         "rawType": "object",
         "type": "string"
        },
        {
         "name": "0",
         "rawType": "int64",
         "type": "integer"
        }
       ],
       "ref": "7eed01d4-b032-44c2-bca4-b5baa38a8e3b",
       "rows": [
        [
         "var_0",
         "94672"
        ],
        [
         "var_1",
         "108932"
        ],
        [
         "var_2",
         "86555"
        ],
        [
         "var_3",
         "74597"
        ],
        [
         "var_4",
         "63515"
        ],
        [
         "var_5",
         "141029"
        ],
        [
         "var_6",
         "38599"
        ],
        [
         "var_7",
         "103063"
        ],
        [
         "var_8",
         "98617"
        ],
        [
         "var_9",
         "49417"
        ],
        [
         "var_10",
         "128764"
        ],
        [
         "var_11",
         "130193"
        ],
        [
         "var_12",
         "9561"
        ],
        [
         "var_13",
         "115181"
        ],
        [
         "var_14",
         "79122"
        ],
        [
         "var_15",
         "19810"
        ],
        [
         "var_16",
         "86918"
        ],
        [
         "var_17",
         "137823"
        ],
        [
         "var_18",
         "139515"
        ],
        [
         "var_19",
         "144180"
        ],
        [
         "var_20",
         "127764"
        ],
        [
         "var_21",
         "140062"
        ],
        [
         "var_22",
         "90660"
        ],
        [
         "var_23",
         "24913"
        ],
        [
         "var_24",
         "105101"
        ],
        [
         "var_25",
         "14853"
        ],
        [
         "var_26",
         "127089"
        ],
        [
         "var_27",
         "60185"
        ],
        [
         "var_28",
         "35859"
        ],
        [
         "var_29",
         "88339"
        ],
        [
         "var_30",
         "145977"
        ],
        [
         "var_31",
         "77388"
        ],
        [
         "var_32",
         "85964"
        ],
        [
         "var_33",
         "112239"
        ],
        [
         "var_34",
         "25164"
        ],
        [
         "var_35",
         "122384"
        ],
        [
         "var_36",
         "96404"
        ],
        [
         "var_37",
         "79040"
        ],
        [
         "var_38",
         "115366"
        ],
        [
         "var_39",
         "112674"
        ],
        [
         "var_40",
         "141878"
        ],
        [
         "var_41",
         "131896"
        ],
        [
         "var_42",
         "31592"
        ],
        [
         "var_43",
         "15188"
        ],
        [
         "var_44",
         "127702"
        ],
        [
         "var_45",
         "169968"
        ],
        [
         "var_46",
         "93450"
        ],
        [
         "var_47",
         "154781"
        ],
        [
         "var_48",
         "152039"
        ],
        [
         "var_49",
         "140641"
        ]
       ],
       "shape": {
        "columns": 1,
        "rows": 201
       }
      },
      "text/plain": [
       "var_0       94672\n",
       "var_1      108932\n",
       "var_2       86555\n",
       "var_3       74597\n",
       "var_4       63515\n",
       "            ...  \n",
       "var_196    125560\n",
       "var_197     40537\n",
       "var_198     94153\n",
       "var_199    149430\n",
       "target          2\n",
       "Length: 201, dtype: int64"
      ]
     },
     "execution_count": 7,
     "metadata": {},
     "output_type": "execute_result"
    }
   ],
   "source": [
    "## unique values\n",
    "(\n",
    "    raw_df\n",
    "    .nunique()\n",
    ")"
   ]
  },
  {
   "cell_type": "code",
   "execution_count": 8,
   "id": "6d3cbf65",
   "metadata": {},
   "outputs": [],
   "source": [
    "def tweak_df(df):\n",
    "    df = df.copy()\n",
    "    df['target'] = df['target'].astype('category')\n",
    "    return df\n",
    "raw_df = tweak_df(raw_df)"
   ]
  },
  {
   "cell_type": "code",
   "execution_count": 9,
   "id": "956767e5",
   "metadata": {},
   "outputs": [
    {
     "name": "stdout",
     "output_type": "stream",
     "text": [
      "<class 'pandas.core.frame.DataFrame'>\n",
      "RangeIndex: 200000 entries, 0 to 199999\n",
      "Columns: 201 entries, var_0 to target\n",
      "dtypes: category(1), float64(200)\n",
      "memory usage: 305.4 MB\n"
     ]
    }
   ],
   "source": [
    "raw_df.info()"
   ]
  },
  {
   "cell_type": "markdown",
   "id": "1a5cd594",
   "metadata": {},
   "source": [
    "### Missing values"
   ]
  },
  {
   "cell_type": "code",
   "execution_count": 10,
   "id": "b8e34d69",
   "metadata": {},
   "outputs": [
    {
     "data": {
      "application/vnd.microsoft.datawrangler.viewer.v0+json": {
       "columns": [
        {
         "name": "index",
         "rawType": "object",
         "type": "string"
        },
        {
         "name": "0",
         "rawType": "int64",
         "type": "integer"
        }
       ],
       "ref": "abf36fab-9e14-4a8b-abbb-8e1c03ea1b6d",
       "rows": [],
       "shape": {
        "columns": 1,
        "rows": 0
       }
      },
      "text/plain": [
       "Series([], dtype: int64)"
      ]
     },
     "execution_count": 10,
     "metadata": {},
     "output_type": "execute_result"
    }
   ],
   "source": [
    "(\n",
    "    raw_df\n",
    "    .select_dtypes(include='number')\n",
    "    .isna()\n",
    "    .sum()\n",
    "    .loc[lambda x: x > 0]\n",
    ") # no missing values"
   ]
  },
  {
   "cell_type": "code",
   "execution_count": 11,
   "id": "8c9fd57a",
   "metadata": {},
   "outputs": [
    {
     "data": {
      "text/plain": [
       "Text(0.5, 0, 'Target Value')"
      ]
     },
     "execution_count": 11,
     "metadata": {},
     "output_type": "execute_result"
    },
    {
     "data": {
      "image/png": "[encoded data removed]",
      "text/plain": [
       "<Figure size 400x600 with 1 Axes>"
      ]
     },
     "metadata": {},
     "output_type": "display_data"
    }
   ],
   "source": [
    "fig, ax = plt.subplots(figsize=(4, 6))\n",
    "sns.histplot(\n",
    "    data=raw_df,\n",
    "    x='target',\n",
    "    ax=ax,\n",
    "    binwidth=0.05,       \n",
    "    shrink=0.9,\n",
    "    stat='percent'           \n",
    ")\n",
    "ax.set_title('Distribution of Target Variable')\n",
    "ax.set_xlabel('Target Value')"
   ]
  },
  {
   "cell_type": "markdown",
   "id": "6b9c1239",
   "metadata": {},
   "source": [
    "### the classes are highly inbalanced, only few are 1"
   ]
  },
  {
   "cell_type": "code",
   "execution_count": 12,
   "id": "2d5a217e",
   "metadata": {},
   "outputs": [
    {
     "name": "stderr",
     "output_type": "stream",
     "text": [
      "C:\\Users\\marou\\AppData\\Local\\Temp\\ipykernel_34824\\2538463834.py:5: FutureWarning: The default of observed=False is deprecated and will be changed to True in a future version of pandas. Pass observed=False to retain current behavior or observed=True to adopt the future default and silence this warning.\n",
      "  for g_name, g_data in raw_df.groupby('target'):\n",
      "C:\\Users\\marou\\AppData\\Local\\Temp\\ipykernel_34824\\2538463834.py:5: FutureWarning: The default of observed=False is deprecated and will be changed to True in a future version of pandas. Pass observed=False to retain current behavior or observed=True to adopt the future default and silence this warning.\n",
      "  for g_name, g_data in raw_df.groupby('target'):\n",
      "C:\\Users\\marou\\AppData\\Local\\Temp\\ipykernel_34824\\2538463834.py:5: FutureWarning: The default of observed=False is deprecated and will be changed to True in a future version of pandas. Pass observed=False to retain current behavior or observed=True to adopt the future default and silence this warning.\n",
      "  for g_name, g_data in raw_df.groupby('target'):\n",
      "C:\\Users\\marou\\AppData\\Local\\Temp\\ipykernel_34824\\2538463834.py:5: FutureWarning: The default of observed=False is deprecated and will be changed to True in a future version of pandas. Pass observed=False to retain current behavior or observed=True to adopt the future default and silence this warning.\n",
      "  for g_name, g_data in raw_df.groupby('target'):\n",
      "C:\\Users\\marou\\AppData\\Local\\Temp\\ipykernel_34824\\2538463834.py:5: FutureWarning: The default of observed=False is deprecated and will be changed to True in a future version of pandas. Pass observed=False to retain current behavior or observed=True to adopt the future default and silence this warning.\n",
      "  for g_name, g_data in raw_df.groupby('target'):\n",
      "C:\\Users\\marou\\AppData\\Local\\Temp\\ipykernel_34824\\2538463834.py:5: FutureWarning: The default of observed=False is deprecated and will be changed to True in a future version of pandas. Pass observed=False to retain current behavior or observed=True to adopt the future default and silence this warning.\n",
      "  for g_name, g_data in raw_df.groupby('target'):\n",
      "C:\\Users\\marou\\AppData\\Local\\Temp\\ipykernel_34824\\2538463834.py:5: FutureWarning: The default of observed=False is deprecated and will be changed to True in a future version of pandas. Pass observed=False to retain current behavior or observed=True to adopt the future default and silence this warning.\n",
      "  for g_name, g_data in raw_df.groupby('target'):\n",
      "C:\\Users\\marou\\AppData\\Local\\Temp\\ipykernel_34824\\2538463834.py:5: FutureWarning: The default of observed=False is deprecated and will be changed to True in a future version of pandas. Pass observed=False to retain current behavior or observed=True to adopt the future default and silence this warning.\n",
      "  for g_name, g_data in raw_df.groupby('target'):\n",
      "C:\\Users\\marou\\AppData\\Local\\Temp\\ipykernel_34824\\2538463834.py:5: FutureWarning: The default of observed=False is deprecated and will be changed to True in a future version of pandas. Pass observed=False to retain current behavior or observed=True to adopt the future default and silence this warning.\n",
      "  for g_name, g_data in raw_df.groupby('target'):\n",
      "C:\\Users\\marou\\AppData\\Local\\Temp\\ipykernel_34824\\2538463834.py:5: FutureWarning: The default of observed=False is deprecated and will be changed to True in a future version of pandas. Pass observed=False to retain current behavior or observed=True to adopt the future default and silence this warning.\n",
      "  for g_name, g_data in raw_df.groupby('target'):\n",
      "C:\\Users\\marou\\AppData\\Local\\Temp\\ipykernel_34824\\2538463834.py:5: FutureWarning: The default of observed=False is deprecated and will be changed to True in a future version of pandas. Pass observed=False to retain current behavior or observed=True to adopt the future default and silence this warning.\n",
      "  for g_name, g_data in raw_df.groupby('target'):\n",
      "C:\\Users\\marou\\AppData\\Local\\Temp\\ipykernel_34824\\2538463834.py:5: FutureWarning: The default of observed=False is deprecated and will be changed to True in a future version of pandas. Pass observed=False to retain current behavior or observed=True to adopt the future default and silence this warning.\n",
      "  for g_name, g_data in raw_df.groupby('target'):\n",
      "C:\\Users\\marou\\AppData\\Local\\Temp\\ipykernel_34824\\2538463834.py:5: FutureWarning: The default of observed=False is deprecated and will be changed to True in a future version of pandas. Pass observed=False to retain current behavior or observed=True to adopt the future default and silence this warning.\n",
      "  for g_name, g_data in raw_df.groupby('target'):\n",
      "C:\\Users\\marou\\AppData\\Local\\Temp\\ipykernel_34824\\2538463834.py:5: FutureWarning: The default of observed=False is deprecated and will be changed to True in a future version of pandas. Pass observed=False to retain current behavior or observed=True to adopt the future default and silence this warning.\n",
      "  for g_name, g_data in raw_df.groupby('target'):\n",
      "C:\\Users\\marou\\AppData\\Local\\Temp\\ipykernel_34824\\2538463834.py:5: FutureWarning: The default of observed=False is deprecated and will be changed to True in a future version of pandas. Pass observed=False to retain current behavior or observed=True to adopt the future default and silence this warning.\n",
      "  for g_name, g_data in raw_df.groupby('target'):\n",
      "C:\\Users\\marou\\AppData\\Local\\Temp\\ipykernel_34824\\2538463834.py:5: FutureWarning: The default of observed=False is deprecated and will be changed to True in a future version of pandas. Pass observed=False to retain current behavior or observed=True to adopt the future default and silence this warning.\n",
      "  for g_name, g_data in raw_df.groupby('target'):\n",
      "C:\\Users\\marou\\AppData\\Local\\Temp\\ipykernel_34824\\2538463834.py:5: FutureWarning: The default of observed=False is deprecated and will be changed to True in a future version of pandas. Pass observed=False to retain current behavior or observed=True to adopt the future default and silence this warning.\n",
      "  for g_name, g_data in raw_df.groupby('target'):\n",
      "C:\\Users\\marou\\AppData\\Local\\Temp\\ipykernel_34824\\2538463834.py:5: FutureWarning: The default of observed=False is deprecated and will be changed to True in a future version of pandas. Pass observed=False to retain current behavior or observed=True to adopt the future default and silence this warning.\n",
      "  for g_name, g_data in raw_df.groupby('target'):\n",
      "C:\\Users\\marou\\AppData\\Local\\Temp\\ipykernel_34824\\2538463834.py:5: FutureWarning: The default of observed=False is deprecated and will be changed to True in a future version of pandas. Pass observed=False to retain current behavior or observed=True to adopt the future default and silence this warning.\n",
      "  for g_name, g_data in raw_df.groupby('target'):\n",
      "C:\\Users\\marou\\AppData\\Local\\Temp\\ipykernel_34824\\2538463834.py:5: FutureWarning: The default of observed=False is deprecated and will be changed to True in a future version of pandas. Pass observed=False to retain current behavior or observed=True to adopt the future default and silence this warning.\n",
      "  for g_name, g_data in raw_df.groupby('target'):\n"
     ]
    },
    {
     "data": {
      "image/png": "[encoded data removed]",
      "text/plain": [
       "<Figure size 2500x600 with 20 Axes>"
      ]
     },
     "metadata": {},
     "output_type": "display_data"
    }
   ],
   "source": [
    "fig, axes = plt.subplots(2, 10, figsize=(25, 6), sharey=True)  \n",
    "axes = axes.flatten()\n",
    "\n",
    "for ax, name in zip(axes, range(1, 21)):\n",
    "    for g_name, g_data in raw_df.groupby('target'):\n",
    "        g_data[f'var_{name}'].plot.kde(ax=ax, label=str(g_name))\n",
    "    ax.set_title(f'var_{name}', fontsize=8)\n",
    "    ax.legend(fontsize=6)\n",
    "\n",
    "fig.tight_layout()\n",
    "plt.show()\n"
   ]
  },
  {
   "cell_type": "markdown",
   "id": "2917b59c",
   "metadata": {},
   "source": [
    "### At least for the plotted variables we have kind of the same distribution, are these features even necessary ? -> should investigate more columns "
   ]
  },
  {
   "cell_type": "code",
   "execution_count": 13,
   "id": "0c75860d",
   "metadata": {},
   "outputs": [
    {
     "name": "stderr",
     "output_type": "stream",
     "text": [
      "C:\\Users\\marou\\AppData\\Local\\Temp\\ipykernel_34824\\565984196.py:6: FutureWarning: The default of observed=False is deprecated and will be changed to True in a future version of pandas. Pass observed=False to retain current behavior or observed=True to adopt the future default and silence this warning.\n",
      "  for g_name, g_data in raw_df.groupby('target'):\n",
      "C:\\Users\\marou\\AppData\\Local\\Temp\\ipykernel_34824\\565984196.py:6: FutureWarning: The default of observed=False is deprecated and will be changed to True in a future version of pandas. Pass observed=False to retain current behavior or observed=True to adopt the future default and silence this warning.\n",
      "  for g_name, g_data in raw_df.groupby('target'):\n",
      "C:\\Users\\marou\\AppData\\Local\\Temp\\ipykernel_34824\\565984196.py:6: FutureWarning: The default of observed=False is deprecated and will be changed to True in a future version of pandas. Pass observed=False to retain current behavior or observed=True to adopt the future default and silence this warning.\n",
      "  for g_name, g_data in raw_df.groupby('target'):\n",
      "C:\\Users\\marou\\AppData\\Local\\Temp\\ipykernel_34824\\565984196.py:6: FutureWarning: The default of observed=False is deprecated and will be changed to True in a future version of pandas. Pass observed=False to retain current behavior or observed=True to adopt the future default and silence this warning.\n",
      "  for g_name, g_data in raw_df.groupby('target'):\n",
      "C:\\Users\\marou\\AppData\\Local\\Temp\\ipykernel_34824\\565984196.py:6: FutureWarning: The default of observed=False is deprecated and will be changed to True in a future version of pandas. Pass observed=False to retain current behavior or observed=True to adopt the future default and silence this warning.\n",
      "  for g_name, g_data in raw_df.groupby('target'):\n",
      "C:\\Users\\marou\\AppData\\Local\\Temp\\ipykernel_34824\\565984196.py:6: FutureWarning: The default of observed=False is deprecated and will be changed to True in a future version of pandas. Pass observed=False to retain current behavior or observed=True to adopt the future default and silence this warning.\n",
      "  for g_name, g_data in raw_df.groupby('target'):\n",
      "C:\\Users\\marou\\AppData\\Local\\Temp\\ipykernel_34824\\565984196.py:6: FutureWarning: The default of observed=False is deprecated and will be changed to True in a future version of pandas. Pass observed=False to retain current behavior or observed=True to adopt the future default and silence this warning.\n",
      "  for g_name, g_data in raw_df.groupby('target'):\n",
      "C:\\Users\\marou\\AppData\\Local\\Temp\\ipykernel_34824\\565984196.py:6: FutureWarning: The default of observed=False is deprecated and will be changed to True in a future version of pandas. Pass observed=False to retain current behavior or observed=True to adopt the future default and silence this warning.\n",
      "  for g_name, g_data in raw_df.groupby('target'):\n",
      "C:\\Users\\marou\\AppData\\Local\\Temp\\ipykernel_34824\\565984196.py:6: FutureWarning: The default of observed=False is deprecated and will be changed to True in a future version of pandas. Pass observed=False to retain current behavior or observed=True to adopt the future default and silence this warning.\n",
      "  for g_name, g_data in raw_df.groupby('target'):\n",
      "C:\\Users\\marou\\AppData\\Local\\Temp\\ipykernel_34824\\565984196.py:6: FutureWarning: The default of observed=False is deprecated and will be changed to True in a future version of pandas. Pass observed=False to retain current behavior or observed=True to adopt the future default and silence this warning.\n",
      "  for g_name, g_data in raw_df.groupby('target'):\n",
      "C:\\Users\\marou\\AppData\\Local\\Temp\\ipykernel_34824\\565984196.py:6: FutureWarning: The default of observed=False is deprecated and will be changed to True in a future version of pandas. Pass observed=False to retain current behavior or observed=True to adopt the future default and silence this warning.\n",
      "  for g_name, g_data in raw_df.groupby('target'):\n",
      "C:\\Users\\marou\\AppData\\Local\\Temp\\ipykernel_34824\\565984196.py:6: FutureWarning: The default of observed=False is deprecated and will be changed to True in a future version of pandas. Pass observed=False to retain current behavior or observed=True to adopt the future default and silence this warning.\n",
      "  for g_name, g_data in raw_df.groupby('target'):\n",
      "C:\\Users\\marou\\AppData\\Local\\Temp\\ipykernel_34824\\565984196.py:6: FutureWarning: The default of observed=False is deprecated and will be changed to True in a future version of pandas. Pass observed=False to retain current behavior or observed=True to adopt the future default and silence this warning.\n",
      "  for g_name, g_data in raw_df.groupby('target'):\n",
      "C:\\Users\\marou\\AppData\\Local\\Temp\\ipykernel_34824\\565984196.py:6: FutureWarning: The default of observed=False is deprecated and will be changed to True in a future version of pandas. Pass observed=False to retain current behavior or observed=True to adopt the future default and silence this warning.\n",
      "  for g_name, g_data in raw_df.groupby('target'):\n",
      "C:\\Users\\marou\\AppData\\Local\\Temp\\ipykernel_34824\\565984196.py:6: FutureWarning: The default of observed=False is deprecated and will be changed to True in a future version of pandas. Pass observed=False to retain current behavior or observed=True to adopt the future default and silence this warning.\n",
      "  for g_name, g_data in raw_df.groupby('target'):\n",
      "C:\\Users\\marou\\AppData\\Local\\Temp\\ipykernel_34824\\565984196.py:6: FutureWarning: The default of observed=False is deprecated and will be changed to True in a future version of pandas. Pass observed=False to retain current behavior or observed=True to adopt the future default and silence this warning.\n",
      "  for g_name, g_data in raw_df.groupby('target'):\n",
      "C:\\Users\\marou\\AppData\\Local\\Temp\\ipykernel_34824\\565984196.py:6: FutureWarning: The default of observed=False is deprecated and will be changed to True in a future version of pandas. Pass observed=False to retain current behavior or observed=True to adopt the future default and silence this warning.\n",
      "  for g_name, g_data in raw_df.groupby('target'):\n",
      "C:\\Users\\marou\\AppData\\Local\\Temp\\ipykernel_34824\\565984196.py:6: FutureWarning: The default of observed=False is deprecated and will be changed to True in a future version of pandas. Pass observed=False to retain current behavior or observed=True to adopt the future default and silence this warning.\n",
      "  for g_name, g_data in raw_df.groupby('target'):\n",
      "C:\\Users\\marou\\AppData\\Local\\Temp\\ipykernel_34824\\565984196.py:6: FutureWarning: The default of observed=False is deprecated and will be changed to True in a future version of pandas. Pass observed=False to retain current behavior or observed=True to adopt the future default and silence this warning.\n",
      "  for g_name, g_data in raw_df.groupby('target'):\n",
      "C:\\Users\\marou\\AppData\\Local\\Temp\\ipykernel_34824\\565984196.py:6: FutureWarning: The default of observed=False is deprecated and will be changed to True in a future version of pandas. Pass observed=False to retain current behavior or observed=True to adopt the future default and silence this warning.\n",
      "  for g_name, g_data in raw_df.groupby('target'):\n"
     ]
    },
    {
     "data": {
      "image/png": "[encoded data removed]",
      "text/plain": [
       "<Figure size 2500x600 with 20 Axes>"
      ]
     },
     "metadata": {},
     "output_type": "display_data"
    }
   ],
   "source": [
    "fig, axes = plt.subplots(2, 10, figsize=(25, 6), sharey=True)  \n",
    "\n",
    "axes = axes.flatten()\n",
    "\n",
    "for ax, name in zip(axes, range(21, 41)):\n",
    "    for g_name, g_data in raw_df.groupby('target'):\n",
    "        g_data[f'var_{name}'].plot.kde(ax=ax, label=str(g_name))\n",
    "    ax.set_title(f'var_{name}', fontsize=8)\n",
    "    ax.legend(fontsize=6)\n",
    "\n",
    "fig.tight_layout()\n",
    "plt.show()\n"
   ]
  },
  {
   "cell_type": "markdown",
   "id": "611ed777",
   "metadata": {},
   "source": [
    "### we also see no variation here "
   ]
  },
  {
   "cell_type": "code",
   "execution_count": 14,
   "id": "b8b50d13",
   "metadata": {},
   "outputs": [
    {
     "name": "stderr",
     "output_type": "stream",
     "text": [
      "C:\\Users\\marou\\AppData\\Local\\Temp\\ipykernel_34824\\213410141.py:6: FutureWarning: The default of observed=False is deprecated and will be changed to True in a future version of pandas. Pass observed=False to retain current behavior or observed=True to adopt the future default and silence this warning.\n",
      "  for g_name, g_data in raw_df.groupby('target'):\n",
      "C:\\Users\\marou\\AppData\\Local\\Temp\\ipykernel_34824\\213410141.py:6: FutureWarning: The default of observed=False is deprecated and will be changed to True in a future version of pandas. Pass observed=False to retain current behavior or observed=True to adopt the future default and silence this warning.\n",
      "  for g_name, g_data in raw_df.groupby('target'):\n",
      "C:\\Users\\marou\\AppData\\Local\\Temp\\ipykernel_34824\\213410141.py:6: FutureWarning: The default of observed=False is deprecated and will be changed to True in a future version of pandas. Pass observed=False to retain current behavior or observed=True to adopt the future default and silence this warning.\n",
      "  for g_name, g_data in raw_df.groupby('target'):\n",
      "C:\\Users\\marou\\AppData\\Local\\Temp\\ipykernel_34824\\213410141.py:6: FutureWarning: The default of observed=False is deprecated and will be changed to True in a future version of pandas. Pass observed=False to retain current behavior or observed=True to adopt the future default and silence this warning.\n",
      "  for g_name, g_data in raw_df.groupby('target'):\n",
      "C:\\Users\\marou\\AppData\\Local\\Temp\\ipykernel_34824\\213410141.py:6: FutureWarning: The default of observed=False is deprecated and will be changed to True in a future version of pandas. Pass observed=False to retain current behavior or observed=True to adopt the future default and silence this warning.\n",
      "  for g_name, g_data in raw_df.groupby('target'):\n",
      "C:\\Users\\marou\\AppData\\Local\\Temp\\ipykernel_34824\\213410141.py:6: FutureWarning: The default of observed=False is deprecated and will be changed to True in a future version of pandas. Pass observed=False to retain current behavior or observed=True to adopt the future default and silence this warning.\n",
      "  for g_name, g_data in raw_df.groupby('target'):\n",
      "C:\\Users\\marou\\AppData\\Local\\Temp\\ipykernel_34824\\213410141.py:6: FutureWarning: The default of observed=False is deprecated and will be changed to True in a future version of pandas. Pass observed=False to retain current behavior or observed=True to adopt the future default and silence this warning.\n",
      "  for g_name, g_data in raw_df.groupby('target'):\n",
      "C:\\Users\\marou\\AppData\\Local\\Temp\\ipykernel_34824\\213410141.py:6: FutureWarning: The default of observed=False is deprecated and will be changed to True in a future version of pandas. Pass observed=False to retain current behavior or observed=True to adopt the future default and silence this warning.\n",
      "  for g_name, g_data in raw_df.groupby('target'):\n",
      "C:\\Users\\marou\\AppData\\Local\\Temp\\ipykernel_34824\\213410141.py:6: FutureWarning: The default of observed=False is deprecated and will be changed to True in a future version of pandas. Pass observed=False to retain current behavior or observed=True to adopt the future default and silence this warning.\n",
      "  for g_name, g_data in raw_df.groupby('target'):\n",
      "C:\\Users\\marou\\AppData\\Local\\Temp\\ipykernel_34824\\213410141.py:6: FutureWarning: The default of observed=False is deprecated and will be changed to True in a future version of pandas. Pass observed=False to retain current behavior or observed=True to adopt the future default and silence this warning.\n",
      "  for g_name, g_data in raw_df.groupby('target'):\n",
      "C:\\Users\\marou\\AppData\\Local\\Temp\\ipykernel_34824\\213410141.py:6: FutureWarning: The default of observed=False is deprecated and will be changed to True in a future version of pandas. Pass observed=False to retain current behavior or observed=True to adopt the future default and silence this warning.\n",
      "  for g_name, g_data in raw_df.groupby('target'):\n",
      "C:\\Users\\marou\\AppData\\Local\\Temp\\ipykernel_34824\\213410141.py:6: FutureWarning: The default of observed=False is deprecated and will be changed to True in a future version of pandas. Pass observed=False to retain current behavior or observed=True to adopt the future default and silence this warning.\n",
      "  for g_name, g_data in raw_df.groupby('target'):\n",
      "C:\\Users\\marou\\AppData\\Local\\Temp\\ipykernel_34824\\213410141.py:6: FutureWarning: The default of observed=False is deprecated and will be changed to True in a future version of pandas. Pass observed=False to retain current behavior or observed=True to adopt the future default and silence this warning.\n",
      "  for g_name, g_data in raw_df.groupby('target'):\n",
      "C:\\Users\\marou\\AppData\\Local\\Temp\\ipykernel_34824\\213410141.py:6: FutureWarning: The default of observed=False is deprecated and will be changed to True in a future version of pandas. Pass observed=False to retain current behavior or observed=True to adopt the future default and silence this warning.\n",
      "  for g_name, g_data in raw_df.groupby('target'):\n",
      "C:\\Users\\marou\\AppData\\Local\\Temp\\ipykernel_34824\\213410141.py:6: FutureWarning: The default of observed=False is deprecated and will be changed to True in a future version of pandas. Pass observed=False to retain current behavior or observed=True to adopt the future default and silence this warning.\n",
      "  for g_name, g_data in raw_df.groupby('target'):\n",
      "C:\\Users\\marou\\AppData\\Local\\Temp\\ipykernel_34824\\213410141.py:6: FutureWarning: The default of observed=False is deprecated and will be changed to True in a future version of pandas. Pass observed=False to retain current behavior or observed=True to adopt the future default and silence this warning.\n",
      "  for g_name, g_data in raw_df.groupby('target'):\n",
      "C:\\Users\\marou\\AppData\\Local\\Temp\\ipykernel_34824\\213410141.py:6: FutureWarning: The default of observed=False is deprecated and will be changed to True in a future version of pandas. Pass observed=False to retain current behavior or observed=True to adopt the future default and silence this warning.\n",
      "  for g_name, g_data in raw_df.groupby('target'):\n",
      "C:\\Users\\marou\\AppData\\Local\\Temp\\ipykernel_34824\\213410141.py:6: FutureWarning: The default of observed=False is deprecated and will be changed to True in a future version of pandas. Pass observed=False to retain current behavior or observed=True to adopt the future default and silence this warning.\n",
      "  for g_name, g_data in raw_df.groupby('target'):\n",
      "C:\\Users\\marou\\AppData\\Local\\Temp\\ipykernel_34824\\213410141.py:6: FutureWarning: The default of observed=False is deprecated and will be changed to True in a future version of pandas. Pass observed=False to retain current behavior or observed=True to adopt the future default and silence this warning.\n",
      "  for g_name, g_data in raw_df.groupby('target'):\n",
      "C:\\Users\\marou\\AppData\\Local\\Temp\\ipykernel_34824\\213410141.py:6: FutureWarning: The default of observed=False is deprecated and will be changed to True in a future version of pandas. Pass observed=False to retain current behavior or observed=True to adopt the future default and silence this warning.\n",
      "  for g_name, g_data in raw_df.groupby('target'):\n"
     ]
    },
    {
     "data": {
      "image/png": "[encoded data removed]",
      "text/plain": [
       "<Figure size 2500x600 with 20 Axes>"
      ]
     },
     "metadata": {},
     "output_type": "display_data"
    }
   ],
   "source": [
    "fig, axes = plt.subplots(2, 10, figsize=(25, 6), sharey=True)  \n",
    "\n",
    "axes = axes.flatten()\n",
    "\n",
    "for ax, name in zip(axes, range(41, 61)):\n",
    "    for g_name, g_data in raw_df.groupby('target'):\n",
    "        g_data[f'var_{name}'].plot.kde(ax=ax, label=str(g_name))\n",
    "    ax.set_title(f'var_{name}', fontsize=8)\n",
    "    ax.legend(fontsize=6)\n",
    "\n",
    "fig.tight_layout()\n",
    "plt.show()\n"
   ]
  },
  {
   "cell_type": "code",
   "execution_count": 15,
   "id": "dce4dc32",
   "metadata": {},
   "outputs": [
    {
     "name": "stderr",
     "output_type": "stream",
     "text": [
      "C:\\Users\\marou\\AppData\\Local\\Temp\\ipykernel_34824\\3106726282.py:6: FutureWarning: The default of observed=False is deprecated and will be changed to True in a future version of pandas. Pass observed=False to retain current behavior or observed=True to adopt the future default and silence this warning.\n",
      "  for g_name, g_data in raw_df.groupby('target'):\n",
      "C:\\Users\\marou\\AppData\\Local\\Temp\\ipykernel_34824\\3106726282.py:6: FutureWarning: The default of observed=False is deprecated and will be changed to True in a future version of pandas. Pass observed=False to retain current behavior or observed=True to adopt the future default and silence this warning.\n",
      "  for g_name, g_data in raw_df.groupby('target'):\n",
      "C:\\Users\\marou\\AppData\\Local\\Temp\\ipykernel_34824\\3106726282.py:6: FutureWarning: The default of observed=False is deprecated and will be changed to True in a future version of pandas. Pass observed=False to retain current behavior or observed=True to adopt the future default and silence this warning.\n",
      "  for g_name, g_data in raw_df.groupby('target'):\n",
      "C:\\Users\\marou\\AppData\\Local\\Temp\\ipykernel_34824\\3106726282.py:6: FutureWarning: The default of observed=False is deprecated and will be changed to True in a future version of pandas. Pass observed=False to retain current behavior or observed=True to adopt the future default and silence this warning.\n",
      "  for g_name, g_data in raw_df.groupby('target'):\n",
      "C:\\Users\\marou\\AppData\\Local\\Temp\\ipykernel_34824\\3106726282.py:6: FutureWarning: The default of observed=False is deprecated and will be changed to True in a future version of pandas. Pass observed=False to retain current behavior or observed=True to adopt the future default and silence this warning.\n",
      "  for g_name, g_data in raw_df.groupby('target'):\n",
      "C:\\Users\\marou\\AppData\\Local\\Temp\\ipykernel_34824\\3106726282.py:6: FutureWarning: The default of observed=False is deprecated and will be changed to True in a future version of pandas. Pass observed=False to retain current behavior or observed=True to adopt the future default and silence this warning.\n",
      "  for g_name, g_data in raw_df.groupby('target'):\n",
      "C:\\Users\\marou\\AppData\\Local\\Temp\\ipykernel_34824\\3106726282.py:6: FutureWarning: The default of observed=False is deprecated and will be changed to True in a future version of pandas. Pass observed=False to retain current behavior or observed=True to adopt the future default and silence this warning.\n",
      "  for g_name, g_data in raw_df.groupby('target'):\n",
      "C:\\Users\\marou\\AppData\\Local\\Temp\\ipykernel_34824\\3106726282.py:6: FutureWarning: The default of observed=False is deprecated and will be changed to True in a future version of pandas. Pass observed=False to retain current behavior or observed=True to adopt the future default and silence this warning.\n",
      "  for g_name, g_data in raw_df.groupby('target'):\n",
      "C:\\Users\\marou\\AppData\\Local\\Temp\\ipykernel_34824\\3106726282.py:6: FutureWarning: The default of observed=False is deprecated and will be changed to True in a future version of pandas. Pass observed=False to retain current behavior or observed=True to adopt the future default and silence this warning.\n",
      "  for g_name, g_data in raw_df.groupby('target'):\n",
      "C:\\Users\\marou\\AppData\\Local\\Temp\\ipykernel_34824\\3106726282.py:6: FutureWarning: The default of observed=False is deprecated and will be changed to True in a future version of pandas. Pass observed=False to retain current behavior or observed=True to adopt the future default and silence this warning.\n",
      "  for g_name, g_data in raw_df.groupby('target'):\n",
      "C:\\Users\\marou\\AppData\\Local\\Temp\\ipykernel_34824\\3106726282.py:6: FutureWarning: The default of observed=False is deprecated and will be changed to True in a future version of pandas. Pass observed=False to retain current behavior or observed=True to adopt the future default and silence this warning.\n",
      "  for g_name, g_data in raw_df.groupby('target'):\n",
      "C:\\Users\\marou\\AppData\\Local\\Temp\\ipykernel_34824\\3106726282.py:6: FutureWarning: The default of observed=False is deprecated and will be changed to True in a future version of pandas. Pass observed=False to retain current behavior or observed=True to adopt the future default and silence this warning.\n",
      "  for g_name, g_data in raw_df.groupby('target'):\n",
      "C:\\Users\\marou\\AppData\\Local\\Temp\\ipykernel_34824\\3106726282.py:6: FutureWarning: The default of observed=False is deprecated and will be changed to True in a future version of pandas. Pass observed=False to retain current behavior or observed=True to adopt the future default and silence this warning.\n",
      "  for g_name, g_data in raw_df.groupby('target'):\n",
      "C:\\Users\\marou\\AppData\\Local\\Temp\\ipykernel_34824\\3106726282.py:6: FutureWarning: The default of observed=False is deprecated and will be changed to True in a future version of pandas. Pass observed=False to retain current behavior or observed=True to adopt the future default and silence this warning.\n",
      "  for g_name, g_data in raw_df.groupby('target'):\n",
      "C:\\Users\\marou\\AppData\\Local\\Temp\\ipykernel_34824\\3106726282.py:6: FutureWarning: The default of observed=False is deprecated and will be changed to True in a future version of pandas. Pass observed=False to retain current behavior or observed=True to adopt the future default and silence this warning.\n",
      "  for g_name, g_data in raw_df.groupby('target'):\n",
      "C:\\Users\\marou\\AppData\\Local\\Temp\\ipykernel_34824\\3106726282.py:6: FutureWarning: The default of observed=False is deprecated and will be changed to True in a future version of pandas. Pass observed=False to retain current behavior or observed=True to adopt the future default and silence this warning.\n",
      "  for g_name, g_data in raw_df.groupby('target'):\n",
      "C:\\Users\\marou\\AppData\\Local\\Temp\\ipykernel_34824\\3106726282.py:6: FutureWarning: The default of observed=False is deprecated and will be changed to True in a future version of pandas. Pass observed=False to retain current behavior or observed=True to adopt the future default and silence this warning.\n",
      "  for g_name, g_data in raw_df.groupby('target'):\n",
      "C:\\Users\\marou\\AppData\\Local\\Temp\\ipykernel_34824\\3106726282.py:6: FutureWarning: The default of observed=False is deprecated and will be changed to True in a future version of pandas. Pass observed=False to retain current behavior or observed=True to adopt the future default and silence this warning.\n",
      "  for g_name, g_data in raw_df.groupby('target'):\n",
      "C:\\Users\\marou\\AppData\\Local\\Temp\\ipykernel_34824\\3106726282.py:6: FutureWarning: The default of observed=False is deprecated and will be changed to True in a future version of pandas. Pass observed=False to retain current behavior or observed=True to adopt the future default and silence this warning.\n",
      "  for g_name, g_data in raw_df.groupby('target'):\n",
      "C:\\Users\\marou\\AppData\\Local\\Temp\\ipykernel_34824\\3106726282.py:6: FutureWarning: The default of observed=False is deprecated and will be changed to True in a future version of pandas. Pass observed=False to retain current behavior or observed=True to adopt the future default and silence this warning.\n",
      "  for g_name, g_data in raw_df.groupby('target'):\n"
     ]
    },
    {
     "data": {
      "image/png": "[encoded data removed]",
      "text/plain": [
       "<Figure size 2500x600 with 20 Axes>"
      ]
     },
     "metadata": {},
     "output_type": "display_data"
    }
   ],
   "source": [
    "fig, axes = plt.subplots(2, 10, figsize=(25, 6), sharey=True)  \n",
    "\n",
    "axes = axes.flatten()\n",
    "\n",
    "for ax, name in zip(axes, range(61, 81)):\n",
    "    for g_name, g_data in raw_df.groupby('target'):\n",
    "        g_data[f'var_{name}'].plot.kde(ax=ax, label=str(g_name))\n",
    "    ax.set_title(f'var_{name}', fontsize=8)\n",
    "    ax.legend(fontsize=6)\n",
    "\n",
    "fig.tight_layout()\n",
    "plt.show()\n"
   ]
  },
  {
   "cell_type": "code",
   "execution_count": 16,
   "id": "5b4c07ce",
   "metadata": {},
   "outputs": [],
   "source": [
    "corr_matrix = raw_df.corr(numeric_only=True)"
   ]
  },
  {
   "cell_type": "code",
   "execution_count": 29,
   "id": "2789a1f0",
   "metadata": {},
   "outputs": [
    {
     "data": {
      "application/vnd.microsoft.datawrangler.viewer.v0+json": {
       "columns": [
        {
         "name": "(None, None)",
         "rawType": "object",
         "type": "unknown"
        },
        {
         "name": "0",
         "rawType": "float64",
         "type": "float"
        }
       ],
       "ref": "1d6d3333-ef5c-4fef-b951-a1ec50f3a6ee",
       "rows": [
        [
         "('var_0', 'var_1')",
         "-0.0005436992424820395"
        ],
        [
         "('var_0', 'var_2')",
         "0.006572833797730196"
        ],
        [
         "('var_0', 'var_3')",
         "0.003800760524091295"
        ],
        [
         "('var_0', 'var_4')",
         "0.0013258094155349984"
        ],
        [
         "('var_0', 'var_5')",
         "0.0030462472103392965"
        ],
        [
         "('var_0', 'var_6')",
         "0.006982548837449118"
        ],
        [
         "('var_0', 'var_7')",
         "0.002429013647374273"
        ],
        [
         "('var_0', 'var_8')",
         "0.0049624310348794195"
        ],
        [
         "('var_0', 'var_9')",
         "-0.0026126501548393833"
        ],
        [
         "('var_0', 'var_10')",
         "0.00035470144960565177"
        ],
        [
         "('var_0', 'var_11')",
         "0.0034677075164387073"
        ],
        [
         "('var_0', 'var_12')",
         "-0.001995731251315164"
        ],
        [
         "('var_0', 'var_13')",
         "-0.002716869540055213"
        ],
        [
         "('var_0', 'var_14')",
         "-0.0045844534351262775"
        ],
        [
         "('var_0', 'var_15')",
         "-4.265071904978216e-05"
        ],
        [
         "('var_0', 'var_16')",
         "0.0011116822083758046"
        ],
        [
         "('var_0', 'var_17')",
         "-0.0016636645390763097"
        ],
        [
         "('var_0', 'var_18')",
         "0.004292273655884837"
        ],
        [
         "('var_0', 'var_19')",
         "0.0015051734411530094"
        ],
        [
         "('var_0', 'var_20')",
         "-0.0009318282674103225"
        ],
        [
         "('var_0', 'var_21')",
         "0.000780887210316958"
        ],
        [
         "('var_0', 'var_22')",
         "0.0023219292181409818"
        ],
        [
         "('var_0', 'var_23')",
         "-0.000987476812164158"
        ],
        [
         "('var_0', 'var_24')",
         "0.0036580888718500356"
        ],
        [
         "('var_0', 'var_25')",
         "0.0011577464647437212"
        ],
        [
         "('var_0', 'var_26')",
         "0.006117345681916012"
        ],
        [
         "('var_0', 'var_27')",
         "0.000984697371031414"
        ],
        [
         "('var_0', 'var_28')",
         "0.001081441281505876"
        ],
        [
         "('var_0', 'var_29')",
         "-0.00042561356146097123"
        ],
        [
         "('var_0', 'var_30')",
         "0.003187451434829392"
        ],
        [
         "('var_0', 'var_31')",
         "-0.0020968329819678493"
        ],
        [
         "('var_0', 'var_32')",
         "0.0002739494662258131"
        ],
        [
         "('var_0', 'var_33')",
         "-0.0033429350832035725"
        ],
        [
         "('var_0', 'var_34')",
         "-0.003932963506452222"
        ],
        [
         "('var_0', 'var_35')",
         "0.0014685448689676318"
        ],
        [
         "('var_0', 'var_36')",
         "-0.002555554754132116"
        ],
        [
         "('var_0', 'var_37')",
         "-0.0002527558581349095"
        ],
        [
         "('var_0', 'var_38')",
         "-0.0004699504190073485"
        ],
        [
         "('var_0', 'var_39')",
         "-0.0014089001731913194"
        ],
        [
         "('var_0', 'var_40')",
         "0.006798366388517196"
        ],
        [
         "('var_0', 'var_41')",
         "0.0011524944633759652"
        ],
        [
         "('var_0', 'var_42')",
         "-0.00044040256071585813"
        ],
        [
         "('var_0', 'var_43')",
         "0.002685342657806656"
        ],
        [
         "('var_0', 'var_44')",
         "-0.003003208388898299"
        ],
        [
         "('var_0', 'var_45')",
         "-0.0015388619730814194"
        ],
        [
         "('var_0', 'var_46')",
         "0.0001286994788161842"
        ],
        [
         "('var_0', 'var_47')",
         "0.004061957168707474"
        ],
        [
         "('var_0', 'var_48')",
         "0.0037674693264338442"
        ],
        [
         "('var_0', 'var_49')",
         "0.0005237616468348252"
        ],
        [
         "('var_0', 'var_50')",
         "-0.004677768501789879"
        ]
       ],
       "shape": {
        "columns": 1,
        "rows": 19900
       }
      },
      "text/plain": [
       "var_0    var_1     -0.000544\n",
       "         var_2      0.006573\n",
       "         var_3      0.003801\n",
       "         var_4      0.001326\n",
       "         var_5      0.003046\n",
       "                      ...   \n",
       "var_196  var_198    0.000253\n",
       "         var_199    0.000607\n",
       "var_197  var_198    0.001183\n",
       "         var_199    0.004991\n",
       "var_198  var_199   -0.004731\n",
       "Length: 19900, dtype: float64"
      ]
     },
     "execution_count": 29,
     "metadata": {},
     "output_type": "execute_result"
    }
   ],
   "source": [
    "mask = np.triu(np.ones_like(corr_matrix, dtype=bool),k=1)\n",
    "(\n",
    "    corr_matrix\n",
    "    .where(mask)\n",
    "    .stack()\n",
    "    #.loc[lambda x: x > 0.5]\n",
    ") # no strong correlations"
   ]
  },
  {
   "cell_type": "code",
   "execution_count": 18,
   "id": "666101a3",
   "metadata": {},
   "outputs": [
    {
     "data": {
      "image/png": "[encoded data removed]",
      "text/plain": [
       "<Figure size 2500x600 with 20 Axes>"
      ]
     },
     "metadata": {},
     "output_type": "display_data"
    }
   ],
   "source": [
    "figure, ax = plt.subplots(2,10, figsize=(25, 6), sharey=True)\n",
    "for ax, name in zip(ax.flatten(), range(1, 21)):\n",
    "    sns.boxplot(data=raw_df[f'var_{name}'], ax=ax)\n",
    "    ax.set_title(f'var_{name}', fontsize=8)"
   ]
  },
  {
   "cell_type": "markdown",
   "id": "74e16696",
   "metadata": {},
   "source": [
    "The number of the numeric features is high as well as anonymized. To get a feeling about the distribution of the columns we can plot the column means distribution and the std as well to get also a feeling about the **importance** and variability of columns  "
   ]
  },
  {
   "cell_type": "code",
   "execution_count": 19,
   "id": "808b1202",
   "metadata": {},
   "outputs": [
    {
     "data": {
      "text/plain": [
       "<Axes: xlabel='mean', ylabel='Count'>"
      ]
     },
     "execution_count": 19,
     "metadata": {},
     "output_type": "execute_result"
    },
    {
     "data": {
      "image/png": "[encoded data removed]",
      "text/plain": [
       "<Figure size 640x480 with 1 Axes>"
      ]
     },
     "metadata": {},
     "output_type": "display_data"
    }
   ],
   "source": [
    "sns.histplot(data=raw_df.describe().T, x=\"mean\", kde=True,bins=100)\n"
   ]
  },
  {
   "cell_type": "markdown",
   "id": "5956e447",
   "metadata": {},
   "source": [
    "some means are kinda dispersed but overall most of the means are centered over 5 more or less"
   ]
  },
  {
   "cell_type": "code",
   "execution_count": 20,
   "id": "8d0ff70b",
   "metadata": {},
   "outputs": [
    {
     "data": {
      "text/plain": [
       "<Axes: xlabel='std', ylabel='Count'>"
      ]
     },
     "execution_count": 20,
     "metadata": {},
     "output_type": "execute_result"
    },
    {
     "data": {
      "image/png": "[encoded data removed]",
      "text/plain": [
       "<Figure size 640x480 with 1 Axes>"
      ]
     },
     "metadata": {},
     "output_type": "display_data"
    }
   ],
   "source": [
    "sns.histplot(data=raw_df.describe().T, x=\"std\", kde=True,bins=100)\n"
   ]
  },
  {
   "cell_type": "markdown",
   "id": "82060977",
   "metadata": {},
   "source": [
    "Its very remarquable that many features have std = 0, maybe we dont even need those for the ml model\n"
   ]
  },
  {
   "cell_type": "markdown",
   "id": "d131dc0e",
   "metadata": {},
   "source": [
    "### Duplicates "
   ]
  },
  {
   "cell_type": "code",
   "execution_count": 21,
   "id": "18d75eb5",
   "metadata": {},
   "outputs": [
    {
     "data": {
      "application/vnd.microsoft.datawrangler.viewer.v0+json": {
       "columns": [
        {
         "name": "index",
         "rawType": "int64",
         "type": "integer"
        },
        {
         "name": "var_0",
         "rawType": "float64",
         "type": "float"
        },
        {
         "name": "var_1",
         "rawType": "float64",
         "type": "float"
        },
        {
         "name": "var_2",
         "rawType": "float64",
         "type": "float"
        },
        {
         "name": "var_3",
         "rawType": "float64",
         "type": "float"
        },
        {
         "name": "var_4",
         "rawType": "float64",
         "type": "float"
        },
        {
         "name": "var_5",
         "rawType": "float64",
         "type": "float"
        },
        {
         "name": "var_6",
         "rawType": "float64",
         "type": "float"
        },
        {
         "name": "var_7",
         "rawType": "float64",
         "type": "float"
        },
        {
         "name": "var_8",
         "rawType": "float64",
         "type": "float"
        },
        {
         "name": "var_9",
         "rawType": "float64",
         "type": "float"
        },
        {
         "name": "var_10",
         "rawType": "float64",
         "type": "float"
        },
        {
         "name": "var_11",
         "rawType": "float64",
         "type": "float"
        },
        {
         "name": "var_12",
         "rawType": "float64",
         "type": "float"
        },
        {
         "name": "var_13",
         "rawType": "float64",
         "type": "float"
        },
        {
         "name": "var_14",
         "rawType": "float64",
         "type": "float"
        },
        {
         "name": "var_15",
         "rawType": "float64",
         "type": "float"
        },
        {
         "name": "var_16",
         "rawType": "float64",
         "type": "float"
        },
        {
         "name": "var_17",
         "rawType": "float64",
         "type": "float"
        },
        {
         "name": "var_18",
         "rawType": "float64",
         "type": "float"
        },
        {
         "name": "var_19",
         "rawType": "float64",
         "type": "float"
        },
        {
         "name": "var_20",
         "rawType": "float64",
         "type": "float"
        },
        {
         "name": "var_21",
         "rawType": "float64",
         "type": "float"
        },
        {
         "name": "var_22",
         "rawType": "float64",
         "type": "float"
        },
        {
         "name": "var_23",
         "rawType": "float64",
         "type": "float"
        },
        {
         "name": "var_24",
         "rawType": "float64",
         "type": "float"
        },
        {
         "name": "var_25",
         "rawType": "float64",
         "type": "float"
        },
        {
         "name": "var_26",
         "rawType": "float64",
         "type": "float"
        },
        {
         "name": "var_27",
         "rawType": "float64",
         "type": "float"
        },
        {
         "name": "var_28",
         "rawType": "float64",
         "type": "float"
        },
        {
         "name": "var_29",
         "rawType": "float64",
         "type": "float"
        },
        {
         "name": "var_30",
         "rawType": "float64",
         "type": "float"
        },
        {
         "name": "var_31",
         "rawType": "float64",
         "type": "float"
        },
        {
         "name": "var_32",
         "rawType": "float64",
         "type": "float"
        },
        {
         "name": "var_33",
         "rawType": "float64",
         "type": "float"
        },
        {
         "name": "var_34",
         "rawType": "float64",
         "type": "float"
        },
        {
         "name": "var_35",
         "rawType": "float64",
         "type": "float"
        },
        {
         "name": "var_36",
         "rawType": "float64",
         "type": "float"
        },
        {
         "name": "var_37",
         "rawType": "float64",
         "type": "float"
        },
        {
         "name": "var_38",
         "rawType": "float64",
         "type": "float"
        },
        {
         "name": "var_39",
         "rawType": "float64",
         "type": "float"
        },
        {
         "name": "var_40",
         "rawType": "float64",
         "type": "float"
        },
        {
         "name": "var_41",
         "rawType": "float64",
         "type": "float"
        },
        {
         "name": "var_42",
         "rawType": "float64",
         "type": "float"
        },
        {
         "name": "var_43",
         "rawType": "float64",
         "type": "float"
        },
        {
         "name": "var_44",
         "rawType": "float64",
         "type": "float"
        },
        {
         "name": "var_45",
         "rawType": "float64",
         "type": "float"
        },
        {
         "name": "var_46",
         "rawType": "float64",
         "type": "float"
        },
        {
         "name": "var_47",
         "rawType": "float64",
         "type": "float"
        },
        {
         "name": "var_48",
         "rawType": "float64",
         "type": "float"
        },
        {
         "name": "var_49",
         "rawType": "float64",
         "type": "float"
        },
        {
         "name": "var_50",
         "rawType": "float64",
         "type": "float"
        },
        {
         "name": "var_51",
         "rawType": "float64",
         "type": "float"
        },
        {
         "name": "var_52",
         "rawType": "float64",
         "type": "float"
        },
        {
         "name": "var_53",
         "rawType": "float64",
         "type": "float"
        },
        {
         "name": "var_54",
         "rawType": "float64",
         "type": "float"
        },
        {
         "name": "var_55",
         "rawType": "float64",
         "type": "float"
        },
        {
         "name": "var_56",
         "rawType": "float64",
         "type": "float"
        },
        {
         "name": "var_57",
         "rawType": "float64",
         "type": "float"
        },
        {
         "name": "var_58",
         "rawType": "float64",
         "type": "float"
        },
        {
         "name": "var_59",
         "rawType": "float64",
         "type": "float"
        },
        {
         "name": "var_60",
         "rawType": "float64",
         "type": "float"
        },
        {
         "name": "var_61",
         "rawType": "float64",
         "type": "float"
        },
        {
         "name": "var_62",
         "rawType": "float64",
         "type": "float"
        },
        {
         "name": "var_63",
         "rawType": "float64",
         "type": "float"
        },
        {
         "name": "var_64",
         "rawType": "float64",
         "type": "float"
        },
        {
         "name": "var_65",
         "rawType": "float64",
         "type": "float"
        },
        {
         "name": "var_66",
         "rawType": "float64",
         "type": "float"
        },
        {
         "name": "var_67",
         "rawType": "float64",
         "type": "float"
        },
        {
         "name": "var_68",
         "rawType": "float64",
         "type": "float"
        },
        {
         "name": "var_69",
         "rawType": "float64",
         "type": "float"
        },
        {
         "name": "var_70",
         "rawType": "float64",
         "type": "float"
        },
        {
         "name": "var_71",
         "rawType": "float64",
         "type": "float"
        },
        {
         "name": "var_72",
         "rawType": "float64",
         "type": "float"
        },
        {
         "name": "var_73",
         "rawType": "float64",
         "type": "float"
        },
        {
         "name": "var_74",
         "rawType": "float64",
         "type": "float"
        },
        {
         "name": "var_75",
         "rawType": "float64",
         "type": "float"
        },
        {
         "name": "var_76",
         "rawType": "float64",
         "type": "float"
        },
        {
         "name": "var_77",
         "rawType": "float64",
         "type": "float"
        },
        {
         "name": "var_78",
         "rawType": "float64",
         "type": "float"
        },
        {
         "name": "var_79",
         "rawType": "float64",
         "type": "float"
        },
        {
         "name": "var_80",
         "rawType": "float64",
         "type": "float"
        },
        {
         "name": "var_81",
         "rawType": "float64",
         "type": "float"
        },
        {
         "name": "var_82",
         "rawType": "float64",
         "type": "float"
        },
        {
         "name": "var_83",
         "rawType": "float64",
         "type": "float"
        },
        {
         "name": "var_84",
         "rawType": "float64",
         "type": "float"
        },
        {
         "name": "var_85",
         "rawType": "float64",
         "type": "float"
        },
        {
         "name": "var_86",
         "rawType": "float64",
         "type": "float"
        },
        {
         "name": "var_87",
         "rawType": "float64",
         "type": "float"
        },
        {
         "name": "var_88",
         "rawType": "float64",
         "type": "float"
        },
        {
         "name": "var_89",
         "rawType": "float64",
         "type": "float"
        },
        {
         "name": "var_90",
         "rawType": "float64",
         "type": "float"
        },
        {
         "name": "var_91",
         "rawType": "float64",
         "type": "float"
        },
        {
         "name": "var_92",
         "rawType": "float64",
         "type": "float"
        },
        {
         "name": "var_93",
         "rawType": "float64",
         "type": "float"
        },
        {
         "name": "var_94",
         "rawType": "float64",
         "type": "float"
        },
        {
         "name": "var_95",
         "rawType": "float64",
         "type": "float"
        },
        {
         "name": "var_96",
         "rawType": "float64",
         "type": "float"
        },
        {
         "name": "var_97",
         "rawType": "float64",
         "type": "float"
        },
        {
         "name": "var_98",
         "rawType": "float64",
         "type": "float"
        },
        {
         "name": "var_99",
         "rawType": "float64",
         "type": "float"
        },
        {
         "name": "var_100",
         "rawType": "float64",
         "type": "float"
        },
        {
         "name": "var_101",
         "rawType": "float64",
         "type": "float"
        },
        {
         "name": "var_102",
         "rawType": "float64",
         "type": "float"
        },
        {
         "name": "var_103",
         "rawType": "float64",
         "type": "float"
        },
        {
         "name": "var_104",
         "rawType": "float64",
         "type": "float"
        },
        {
         "name": "var_105",
         "rawType": "float64",
         "type": "float"
        },
        {
         "name": "var_106",
         "rawType": "float64",
         "type": "float"
        },
        {
         "name": "var_107",
         "rawType": "float64",
         "type": "float"
        },
        {
         "name": "var_108",
         "rawType": "float64",
         "type": "float"
        },
        {
         "name": "var_109",
         "rawType": "float64",
         "type": "float"
        },
        {
         "name": "var_110",
         "rawType": "float64",
         "type": "float"
        },
        {
         "name": "var_111",
         "rawType": "float64",
         "type": "float"
        },
        {
         "name": "var_112",
         "rawType": "float64",
         "type": "float"
        },
        {
         "name": "var_113",
         "rawType": "float64",
         "type": "float"
        },
        {
         "name": "var_114",
         "rawType": "float64",
         "type": "float"
        },
        {
         "name": "var_115",
         "rawType": "float64",
         "type": "float"
        },
        {
         "name": "var_116",
         "rawType": "float64",
         "type": "float"
        },
        {
         "name": "var_117",
         "rawType": "float64",
         "type": "float"
        },
        {
         "name": "var_118",
         "rawType": "float64",
         "type": "float"
        },
        {
         "name": "var_119",
         "rawType": "float64",
         "type": "float"
        },
        {
         "name": "var_120",
         "rawType": "float64",
         "type": "float"
        },
        {
         "name": "var_121",
         "rawType": "float64",
         "type": "float"
        },
        {
         "name": "var_122",
         "rawType": "float64",
         "type": "float"
        },
        {
         "name": "var_123",
         "rawType": "float64",
         "type": "float"
        },
        {
         "name": "var_124",
         "rawType": "float64",
         "type": "float"
        },
        {
         "name": "var_125",
         "rawType": "float64",
         "type": "float"
        },
        {
         "name": "var_126",
         "rawType": "float64",
         "type": "float"
        },
        {
         "name": "var_127",
         "rawType": "float64",
         "type": "float"
        },
        {
         "name": "var_128",
         "rawType": "float64",
         "type": "float"
        },
        {
         "name": "var_129",
         "rawType": "float64",
         "type": "float"
        },
        {
         "name": "var_130",
         "rawType": "float64",
         "type": "float"
        },
        {
         "name": "var_131",
         "rawType": "float64",
         "type": "float"
        },
        {
         "name": "var_132",
         "rawType": "float64",
         "type": "float"
        },
        {
         "name": "var_133",
         "rawType": "float64",
         "type": "float"
        },
        {
         "name": "var_134",
         "rawType": "float64",
         "type": "float"
        },
        {
         "name": "var_135",
         "rawType": "float64",
         "type": "float"
        },
        {
         "name": "var_136",
         "rawType": "float64",
         "type": "float"
        },
        {
         "name": "var_137",
         "rawType": "float64",
         "type": "float"
        },
        {
         "name": "var_138",
         "rawType": "float64",
         "type": "float"
        },
        {
         "name": "var_139",
         "rawType": "float64",
         "type": "float"
        },
        {
         "name": "var_140",
         "rawType": "float64",
         "type": "float"
        },
        {
         "name": "var_141",
         "rawType": "float64",
         "type": "float"
        },
        {
         "name": "var_142",
         "rawType": "float64",
         "type": "float"
        },
        {
         "name": "var_143",
         "rawType": "float64",
         "type": "float"
        },
        {
         "name": "var_144",
         "rawType": "float64",
         "type": "float"
        },
        {
         "name": "var_145",
         "rawType": "float64",
         "type": "float"
        },
        {
         "name": "var_146",
         "rawType": "float64",
         "type": "float"
        },
        {
         "name": "var_147",
         "rawType": "float64",
         "type": "float"
        },
        {
         "name": "var_148",
         "rawType": "float64",
         "type": "float"
        },
        {
         "name": "var_149",
         "rawType": "float64",
         "type": "float"
        },
        {
         "name": "var_150",
         "rawType": "float64",
         "type": "float"
        },
        {
         "name": "var_151",
         "rawType": "float64",
         "type": "float"
        },
        {
         "name": "var_152",
         "rawType": "float64",
         "type": "float"
        },
        {
         "name": "var_153",
         "rawType": "float64",
         "type": "float"
        },
        {
         "name": "var_154",
         "rawType": "float64",
         "type": "float"
        },
        {
         "name": "var_155",
         "rawType": "float64",
         "type": "float"
        },
        {
         "name": "var_156",
         "rawType": "float64",
         "type": "float"
        },
        {
         "name": "var_157",
         "rawType": "float64",
         "type": "float"
        },
        {
         "name": "var_158",
         "rawType": "float64",
         "type": "float"
        },
        {
         "name": "var_159",
         "rawType": "float64",
         "type": "float"
        },
        {
         "name": "var_160",
         "rawType": "float64",
         "type": "float"
        },
        {
         "name": "var_161",
         "rawType": "float64",
         "type": "float"
        },
        {
         "name": "var_162",
         "rawType": "float64",
         "type": "float"
        },
        {
         "name": "var_163",
         "rawType": "float64",
         "type": "float"
        },
        {
         "name": "var_164",
         "rawType": "float64",
         "type": "float"
        },
        {
         "name": "var_165",
         "rawType": "float64",
         "type": "float"
        },
        {
         "name": "var_166",
         "rawType": "float64",
         "type": "float"
        },
        {
         "name": "var_167",
         "rawType": "float64",
         "type": "float"
        },
        {
         "name": "var_168",
         "rawType": "float64",
         "type": "float"
        },
        {
         "name": "var_169",
         "rawType": "float64",
         "type": "float"
        },
        {
         "name": "var_170",
         "rawType": "float64",
         "type": "float"
        },
        {
         "name": "var_171",
         "rawType": "float64",
         "type": "float"
        },
        {
         "name": "var_172",
         "rawType": "float64",
         "type": "float"
        },
        {
         "name": "var_173",
         "rawType": "float64",
         "type": "float"
        },
        {
         "name": "var_174",
         "rawType": "float64",
         "type": "float"
        },
        {
         "name": "var_175",
         "rawType": "float64",
         "type": "float"
        },
        {
         "name": "var_176",
         "rawType": "float64",
         "type": "float"
        },
        {
         "name": "var_177",
         "rawType": "float64",
         "type": "float"
        },
        {
         "name": "var_178",
         "rawType": "float64",
         "type": "float"
        },
        {
         "name": "var_179",
         "rawType": "float64",
         "type": "float"
        },
        {
         "name": "var_180",
         "rawType": "float64",
         "type": "float"
        },
        {
         "name": "var_181",
         "rawType": "float64",
         "type": "float"
        },
        {
         "name": "var_182",
         "rawType": "float64",
         "type": "float"
        },
        {
         "name": "var_183",
         "rawType": "float64",
         "type": "float"
        },
        {
         "name": "var_184",
         "rawType": "float64",
         "type": "float"
        },
        {
         "name": "var_185",
         "rawType": "float64",
         "type": "float"
        },
        {
         "name": "var_186",
         "rawType": "float64",
         "type": "float"
        },
        {
         "name": "var_187",
         "rawType": "float64",
         "type": "float"
        },
        {
         "name": "var_188",
         "rawType": "float64",
         "type": "float"
        },
        {
         "name": "var_189",
         "rawType": "float64",
         "type": "float"
        },
        {
         "name": "var_190",
         "rawType": "float64",
         "type": "float"
        },
        {
         "name": "var_191",
         "rawType": "float64",
         "type": "float"
        },
        {
         "name": "var_192",
         "rawType": "float64",
         "type": "float"
        },
        {
         "name": "var_193",
         "rawType": "float64",
         "type": "float"
        },
        {
         "name": "var_194",
         "rawType": "float64",
         "type": "float"
        },
        {
         "name": "var_195",
         "rawType": "float64",
         "type": "float"
        },
        {
         "name": "var_196",
         "rawType": "float64",
         "type": "float"
        },
        {
         "name": "var_197",
         "rawType": "float64",
         "type": "float"
        },
        {
         "name": "var_198",
         "rawType": "float64",
         "type": "float"
        },
        {
         "name": "var_199",
         "rawType": "float64",
         "type": "float"
        },
        {
         "name": "target",
         "rawType": "category",
         "type": "unknown"
        }
       ],
       "ref": "94443797-201a-4db2-82b0-5b0c49b41504",
       "rows": [],
       "shape": {
        "columns": 201,
        "rows": 0
       }
      },
      "text/html": [
       "<div>\n",
       "<style scoped>\n",
       "    .dataframe tbody tr th:only-of-type {\n",
       "        vertical-align: middle;\n",
       "    }\n",
       "\n",
       "    .dataframe tbody tr th {\n",
       "        vertical-align: top;\n",
       "    }\n",
       "\n",
       "    .dataframe thead th {\n",
       "        text-align: right;\n",
       "    }\n",
       "</style>\n",
       "<table border=\"1\" class=\"dataframe\">\n",
       "  <thead>\n",
       "    <tr style=\"text-align: right;\">\n",
       "      <th></th>\n",
       "      <th>var_0</th>\n",
       "      <th>var_1</th>\n",
       "      <th>var_2</th>\n",
       "      <th>var_3</th>\n",
       "      <th>var_4</th>\n",
       "      <th>var_5</th>\n",
       "      <th>var_6</th>\n",
       "      <th>var_7</th>\n",
       "      <th>var_8</th>\n",
       "      <th>var_9</th>\n",
       "      <th>...</th>\n",
       "      <th>var_191</th>\n",
       "      <th>var_192</th>\n",
       "      <th>var_193</th>\n",
       "      <th>var_194</th>\n",
       "      <th>var_195</th>\n",
       "      <th>var_196</th>\n",
       "      <th>var_197</th>\n",
       "      <th>var_198</th>\n",
       "      <th>var_199</th>\n",
       "      <th>target</th>\n",
       "    </tr>\n",
       "  </thead>\n",
       "  <tbody>\n",
       "  </tbody>\n",
       "</table>\n",
       "<p>0 rows × 201 columns</p>\n",
       "</div>"
      ],
      "text/plain": [
       "Empty DataFrame\n",
       "Columns: [var_0, var_1, var_2, var_3, var_4, var_5, var_6, var_7, var_8, var_9, var_10, var_11, var_12, var_13, var_14, var_15, var_16, var_17, var_18, var_19, var_20, var_21, var_22, var_23, var_24, var_25, var_26, var_27, var_28, var_29, var_30, var_31, var_32, var_33, var_34, var_35, var_36, var_37, var_38, var_39, var_40, var_41, var_42, var_43, var_44, var_45, var_46, var_47, var_48, var_49, var_50, var_51, var_52, var_53, var_54, var_55, var_56, var_57, var_58, var_59, var_60, var_61, var_62, var_63, var_64, var_65, var_66, var_67, var_68, var_69, var_70, var_71, var_72, var_73, var_74, var_75, var_76, var_77, var_78, var_79, var_80, var_81, var_82, var_83, var_84, var_85, var_86, var_87, var_88, var_89, var_90, var_91, var_92, var_93, var_94, var_95, var_96, var_97, var_98, var_99, ...]\n",
       "Index: []\n",
       "\n",
       "[0 rows x 201 columns]"
      ]
     },
     "execution_count": 21,
     "metadata": {},
     "output_type": "execute_result"
    }
   ],
   "source": [
    "(\n",
    "    raw_df\n",
    "    [raw_df.duplicated(keep=False) == True]    \n",
    ")"
   ]
  },
  {
   "cell_type": "markdown",
   "id": "557fa3f5",
   "metadata": {},
   "source": [
    "### Missing values"
   ]
  },
  {
   "cell_type": "code",
   "execution_count": null,
   "id": "1e56074e",
   "metadata": {},
   "outputs": [
    {
     "data": {
      "application/vnd.microsoft.datawrangler.viewer.v0+json": {
       "columns": [
        {
         "name": "index",
         "rawType": "object",
         "type": "string"
        },
        {
         "name": "0",
         "rawType": "int64",
         "type": "integer"
        }
       ],
       "ref": "5350ff18-919d-4389-aa74-dbffb1c3f5b5",
       "rows": [],
       "shape": {
        "columns": 1,
        "rows": 0
       }
      },
      "text/plain": [
       "Series([], dtype: int64)"
      ]
     },
     "execution_count": 36,
     "metadata": {},
     "output_type": "execute_result"
    }
   ],
   "source": [
    "(\n",
    "    raw_df\n",
    "    .isna()\n",
    "    .sum()\n",
    "    .loc[lambda x: x > 0]\n",
    ") # no missing values"
   ]
  },
  {
   "cell_type": "markdown",
   "id": "a1a89bd8",
   "metadata": {},
   "source": [
    "# 🔎 Findings\n",
    "\n",
    "- ✅ **No missing values** in the dataset  \n",
    "- ✅ **No duplicates** in the dataset  \n",
    "- 📊 The **distributions mostly overlap** (when grouped)  \n",
    "- ⚠️ Several features have **standard deviation = 0** → may not be informative  \n",
    "- 📈 Some feature means are **slightly dispersed**, but most are centered around ~5  \n",
    "- 🕵️ Due to **anonymity of the data**, deeper insights are limited  \n",
    "- 🔗 **No significant correlations** observed between variables "
   ]
  }
 ],
 "metadata": {
  "kernelspec": {
   "display_name": "projekt",
   "language": "python",
   "name": "python3"
  },
  "language_info": {
   "codemirror_mode": {
    "name": "ipython",
    "version": 3
   },
   "file_extension": ".py",
   "mimetype": "text/x-python",
   "name": "python",
   "nbconvert_exporter": "python",
   "pygments_lexer": "ipython3",
   "version": "3.10.18"
  }
 },
 "nbformat": 4,
 "nbformat_minor": 5
}
